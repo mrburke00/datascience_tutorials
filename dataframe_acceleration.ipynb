{
  "cells": [
    {
      "cell_type": "markdown",
      "source": [
        "# Accelerating Dataframe workflows\n",
        "### Devin Burke"
      ],
      "metadata": {
        "id": "jZaGnAnJ3n3H"
      },
      "id": "jZaGnAnJ3n3H"
    },
    {
      "cell_type": "code",
      "source": [
        "%env LC_ALL=C.UTF-8\n",
        "%env LANG=C.UTF-8"
      ],
      "metadata": {
        "id": "S01BsA8Y0g9H"
      },
      "id": "S01BsA8Y0g9H",
      "execution_count": null,
      "outputs": []
    },
    {
      "cell_type": "markdown",
      "source": [
        "# Table of Contents\n",
        "\n",
        "- [1. Primer: Sparsity, Density, and CSR](#primer-sparsity-density-and-csr)\n",
        "  - [Sparsity vs Density](#primer-sparsity-density-and-csr)\n",
        "  - [Dense vs Sparse Memory Intuition](#dense-vs.-sparse-in-memory)\n",
        "  - [What CSR Actually Looks Like](#what-csr-actually-looks-like)\n",
        "  - [Why CSR is Fast for Rows but Slower for Columns](#why-csr-is-fast-for-row-operations)\n",
        "  - [Common Pitfalls & Safer Alternatives](#common-pitfalls)\n",
        "\n",
        "- [2. Tools to Find Bottlenecks](#tools-to-find-bottlenecks---measuring-before-optimizing)\n",
        "  - [Inspecting Matrix Memory Footprint](#tools-to-find-bottlenecks---measuring-before-optimizing)\n",
        "  - [Timing QC Metrics](#tools-to-find-bottlenecks---measuring-before-optimizing)\n",
        "  - [Row-wise Scaling Example (Mito Fractions)](#tools-to-find-bottlenecks---measuring-before-optimizing)\n",
        "  - [The Dangers of Densification](#tools-to-find-bottlenecks---measuring-before-optimizing)\n",
        "  - [Takeaways from Bottleneck Profiling](#tools-to-find-bottlenecks---measuring-before-optimizing)\n",
        "\n",
        "- [3. Vectorization](#vectorization)\n",
        "  - [Primer: What is Vectorization](#vectorization)\n",
        "  - [Loop vs Vectorized Reductions](#vectorization)\n",
        "  - [Elementwise Ops on Sparse `.data`](#vectorization)\n",
        "  - [Broadcasting Safely for Normalization](#vectorization)\n",
        "  - [Fuse Passes to Reuse Intermediates](#vectorization)\n",
        "  - [Scaling Curve: Vectorized vs Loop](#vectorization)\n",
        "\n",
        "- [4. Sparsity-Savvy Ops](#sparsity-savvy-ops)\n",
        "  - [Counting Genes per Cell: getnnz vs Boolean](#sparsity-savvy-ops)\n",
        "  - [Column Sums: CSR vs CSC](#sparsit--savvy-ops)\n",
        "  - [Batching Column Ops](#sparsity-savvy-ops)\n",
        "  - [Anti-Pattern: Densification via NumPy](#sparsity-savvy-ops)\n",
        "\n",
        "- [5. CPU Micro-Optimizations](#cpu-micro-optimizations)\n",
        "  - [Dtype Discipline](#cpu-micro-optimizations)\n",
        "  - [Row Normalization: Diag vs In-Place](#cpu-micro-optimizations)\n",
        "  - [Numba for Custom Transforms](#cpu-micro-optimizations)\n",
        "  - [Block/Tile Processing](#cpu-micro-optimizations)\n",
        "\n",
        "- [6. When (and How) to Use the GPU](#when-and-how-to-use-the-gpu)\n",
        "  - [CuPy Basics](#when-and-how-to-use-the-gpu)\n",
        "  - [CuPy Sparse CSR](#when-and-how-to-use-the-gpu)\n",
        "  - [RAPIDS cuDF / cuML](#when-and-how-to-use-the-gpu)\n",
        "  - [RAPIDS Single-Cell End-to-End Pipeline](#when-and-how-to-use-the-gpu)\n",
        "  - [CPU vs GPU Timing Comparison](#when-and-how-to-use-the-gpu)\n",
        "\n",
        "- [7. Hybrid Pipelines](#hybrid-pipelines)\n",
        "  - [CPU for Preprocessing](#hybrid-pipelines)\n",
        "  - [GPU for Linear Algebra & Graphs](#hybrid-pipelines)\n",
        "  - [Split-Pipeline Pattern](#hybrid-pipelines)\n",
        "\n",
        "- [8. Emerging Runtimes & Tools](#emerging-tools)\n",
        "  - [GPU-Native Frameworks](#emerging-tools)\n",
        "  - [Scalable Array & Storage Backends](#emerging-tools)\n",
        "  - [CPU Accelerators](#emerging-tools)\n",
        "  - [Cluster & Distributed Execution](#emerging-tools)\n",
        "  - [Where Things Are Heading](#emerging-tools)\n"
      ],
      "metadata": {
        "id": "eaVbj02X_sn5"
      },
      "id": "eaVbj02X_sn5"
    },
    {
      "cell_type": "code",
      "source": [
        "# 1) Uninstall only the conflicting RAPIDS bits (keep it minimal)\n",
        "!pip uninstall -y cugraph cugraph-cu12 cuml cuml-cu12 rmm rmm-cu12 pylibraft-cu12 pylibcugraph-cu12\n",
        "# 2) Reinstall a coherent RAPIDS 24.10 set that your Colab already uses\n",
        "!pip install \\\n",
        "  \"rmm-cu12==24.10.*\" \\\n",
        "  \"pylibraft-cu12==24.10.*\" \\\n",
        "  \"pylibcugraph-cu12==24.10.*\" \\\n",
        "  \"cuml-cu12==24.10.*\" \\\n",
        "  \"cugraph-cu12==24.10.*\" \\\n",
        "  --extra-index-url=https://pypi.nvidia.com -U --quiet\n",
        "# 3) Arrow must be <20 for these RAPIDS wheels\n",
        "!pip install \"pyarrow<20\" --upgrade --force-reinstall --quiet\n",
        "# 4) Print what we actually have now (versions)\n",
        "import sys, subprocess\n",
        "\n",
        "print(\"Python:\", sys.version)\n",
        "for pkg in [\n",
        "    \"cudf-cu12\",\"cuml-cu12\",\"cugraph-cu12\",\n",
        "    \"rmm-cu12\",\"pylibraft-cu12\",\"pylibcugraph-cu12\",\n",
        "    \"pyarrow\",\"cupy-cuda12x\",\"cuda-python\"\n",
        "]:\n",
        "    try:\n",
        "        out = subprocess.check_output([sys.executable,\"-m\",\"pip\",\"show\",pkg], text=True)\n",
        "        ver = next((l.split(\":\",1)[1].strip() for l in out.splitlines() if l.startswith(\"Version:\")), \"unknown\")\n",
        "        print(f\"{pkg}: {ver}\")\n",
        "    except subprocess.CalledProcessError:\n",
        "        print(f\"{pkg}: not installed\")\n"
      ],
      "metadata": {
        "id": "UAXNK3Dd0jpy"
      },
      "id": "UAXNK3Dd0jpy",
      "execution_count": null,
      "outputs": []
    },
    {
      "cell_type": "code",
      "source": [
        "try:\n",
        "    import rmm, cudf, cuml, cugraph\n",
        "    import pyarrow as pa\n",
        "    print(\"Imports OK:\",\n",
        "          getattr(cudf, \"__version__\", \"?\"),\n",
        "          getattr(cuml, \"__version__\", \"?\"),\n",
        "          getattr(cugraph, \"__version__\", \"?\"),\n",
        "          pa.__version__)\n",
        "except Exception as e:\n",
        "    import traceback, sys\n",
        "    print(\"Import failed:\")\n",
        "    traceback.print_exc(limit=2, file=sys.stdout)\n"
      ],
      "metadata": {
        "colab": {
          "base_uri": "https://localhost:8080/"
        },
        "id": "8uTHinLX0os2",
        "outputId": "8de5e1c0-89d8-4597-8556-bc7f555b99ee",
        "collapsed": true
      },
      "id": "8uTHinLX0os2",
      "execution_count": null,
      "outputs": [
        {
          "output_type": "stream",
          "name": "stdout",
          "text": [
            "Imports OK: 24.10.01 24.10.00 24.10.00 19.0.1\n"
          ]
        }
      ]
    },
    {
      "cell_type": "code",
      "source": [
        "!pip install \"rapids-singlecell==0.13.1\" \"scanpy>=1.10,<1.12\" \"anndata>=0.10,<0.12\" \"igraph\" \"leidenalg\" \"pyarrow<20\" --upgrade-strategy only-if-needed -q"
      ],
      "metadata": {
        "id": "Pc31d8xHnjzv"
      },
      "id": "Pc31d8xHnjzv",
      "execution_count": null,
      "outputs": []
    },
    {
      "cell_type": "code",
      "source": [
        "import scanpy as sc, anndata, pandas as pd, numpy as np, scipy as sp\n",
        "import rmm, cudf, cuml, cugraph, rapids_singlecell as rsc\n",
        "import cupy as cp\n",
        "\n",
        "print(\"RAPIDS:\", getattr(cudf, \"__version__\", \"?\"), getattr(cuml, \"__version__\", \"?\"), getattr(cugraph, \"__version__\", \"?\"))\n",
        "print(\"rsc:\", rsc.__version__)\n",
        "print(\"scanpy:\", sc.__version__)\n",
        "print(\"anndata:\", anndata.__version__)\n",
        "print(\"pandas/numpy/scipy:\", pd.__version__, np.__version__, sp.__version__)\n",
        "print(\"cupy:\", cp.__version__)\n",
        "\n",
        "import scanpy as sc\n",
        "import pandas as pd\n",
        "import numpy as np\n",
        "import scipy as sp\n",
        "import time, warnings\n",
        "import rapids_singlecell as rsc\n"
      ],
      "metadata": {
        "id": "57QqqsM0tJ4D"
      },
      "id": "57QqqsM0tJ4D",
      "execution_count": null,
      "outputs": []
    },
    {
      "cell_type": "code",
      "source": [
        "!wget https://cf.10xgenomics.com/samples/cell-exp/9.0.0/320k_Human_PBMCs_Sub_Pool_16-plex_GEM-X_FLEX_PBMC_BC1-16/320k_Human_PBMCs_Sub_Pool_16-plex_GEM-X_FLEX_PBMC_BC1-16_count_sample_filtered_feature_bc_matrix.h5"
      ],
      "metadata": {
        "colab": {
          "base_uri": "https://localhost:8080/"
        },
        "id": "umwqXP8zcsy4",
        "outputId": "bc288635-87c2-4a42-ca6a-aa5db4303cf9",
        "collapsed": true
      },
      "id": "umwqXP8zcsy4",
      "execution_count": null,
      "outputs": [
        {
          "output_type": "stream",
          "name": "stdout",
          "text": [
            "--2025-08-20 19:56:49--  https://cf.10xgenomics.com/samples/cell-exp/9.0.0/320k_Human_PBMCs_Sub_Pool_16-plex_GEM-X_FLEX_PBMC_BC1-16/320k_Human_PBMCs_Sub_Pool_16-plex_GEM-X_FLEX_PBMC_BC1-16_count_sample_filtered_feature_bc_matrix.h5\n",
            "Resolving cf.10xgenomics.com (cf.10xgenomics.com)... 104.18.1.173, 104.18.0.173, 2606:4700::6812:1ad, ...\n",
            "Connecting to cf.10xgenomics.com (cf.10xgenomics.com)|104.18.1.173|:443... connected.\n",
            "HTTP request sent, awaiting response... 200 OK\n",
            "Length: 1187383220 (1.1G) [application/x-hdf5]\n",
            "Saving to: ‘320k_Human_PBMCs_Sub_Pool_16-plex_GEM-X_FLEX_PBMC_BC1-16_count_sample_filtered_feature_bc_matrix.h5’\n",
            "\n",
            "320k_Human_PBMCs_Su 100%[===================>]   1.11G  20.2MB/s    in 49s     \n",
            "\n",
            "2025-08-20 19:57:39 (23.2 MB/s) - ‘320k_Human_PBMCs_Sub_Pool_16-plex_GEM-X_FLEX_PBMC_BC1-16_count_sample_filtered_feature_bc_matrix.h5’ saved [1187383220/1187383220]\n",
            "\n"
          ]
        }
      ]
    },
    {
      "cell_type": "markdown",
      "source": [
        "# 1. Primer: Sparsity, Density, and CSR\n",
        "\n",
        "\n",
        "## Sparsity vs. Density\n",
        "\n",
        "Density = fraction of non-zeros\n",
        "\n",
        "Sparsity = fraction of zeros\n",
        "\n",
        "\n",
        "```\n",
        "density = nnz / (n_rows × n_cols)\n",
        "sparsity = 1 – density\n",
        "```\n",
        "Where:\n",
        "* Dense algorithms (e.g. BLAS, numpy) treat every entry equally, doing work even on zeros.\n",
        "\n",
        "* Sparse algorithms (e.g. CSR, CSC) skip over zeros and only process the non-zeros.\n",
        "\n",
        "When a dataset is very sparse, this saves both memory and compute.\n",
        "But as density rises (20–30% or more), the cost of bookkeeping (extra index arrays) can outweigh the savings, and dense storage or dense kernels may actually win.\n",
        "\n",
        "## Sparsity vs. Density in memory\n",
        "\n",
        "###Dense storage\n",
        "\n",
        "If you store every entry as a float32 (4 bytes), the cost is:\n",
        "\n",
        "`bytes_dense = n_rows × n_cols × 4`\n",
        "\n",
        "No matter how many zeros, you pay for them all.\n",
        "CSR storage\n",
        "\n",
        "**Compressed Sparse Row (CSR**) avoids storing zeros. Instead, it uses three arrays:\n",
        "\n",
        "1. **data**\n",
        "\n",
        "  * Length = `nnz`\n",
        "\n",
        "  * Stores the actual non-zero values (floats, 4 bytes each)\n",
        "\n",
        "2. **indices**\n",
        "\n",
        "  * Length = `nnz`\n",
        "\n",
        "  * Stores the column index for each non-zero (ints, 4 bytes each)\n",
        "\n",
        "3. **indptr**\n",
        "\n",
        "  * Length = `n_rows + 1`\n",
        "\n",
        "  * A “row pointer” array: tells you where each row starts and ends inside `data/indices`.\n",
        "\n",
        "  * Think of it as the “table of contents” for rows.\n",
        "\n",
        "  * Each entry is also an int (4 bytes).\n",
        "\n",
        "  ```\n",
        "  bytes_CSR = 4 × nnz (data)\n",
        "          + 4 × nnz (indices)\n",
        "          + 4 × (n_rows + 1) (indptr)\n",
        "  ```\n",
        "\n",
        "### 320k PBMC dataset\n",
        "\n",
        "Matrix: 289,331 × 18,129 with nnz ≈ 935,809,081\n",
        "\n",
        "Dense: `289,331 × 18,129 × 4 ≈ 21.0 GB`\n",
        "CSR:\n",
        "```\n",
        "(4 × 935,809,081) [data]\n",
        "+ (4 × 935,809,081) [indices]\n",
        "+ (4 × 289,332)    [indptr]\n",
        "≈ 7.49 GB\n",
        "```\n",
        "\n",
        "### Rule of Thumb\n",
        "\n",
        "CSR is worth it when sparsity is high (lots of zeros).\n",
        "\n",
        "As density increases, the overhead of storing indices + row pointers eats into savings. Around 20–30% density, dense storage can be competitive or even faster.\n",
        "\n",
        "### What CSR Actually Looks Like\n",
        "```\n",
        "Row 0:  .   3   .   .   .   1\n",
        "Row 1:  2   .   .   .   .   .\n",
        "Row 2:  .   .   .   7   .   .\n",
        "Row 3:  .   4   5   .   .   .\n",
        "```\n",
        "Coordinates of non-zeros\n",
        "```\n",
        "(0,1,3), (0,5,1), (1,0,2), (2,3,7), (3,1,4), (3,2,5)\n",
        "```\n",
        "CSR Arrays\n",
        "```\n",
        "data    = [3, 1, 2, 7, 4, 5]       (the values, row by row)\n",
        "indices = [1, 5, 0, 3, 1, 2]       (the column index of each value)\n",
        "indptr  = [0, 2, 3, 4, 6]          (row boundaries in data/indices)\n",
        "```\n",
        "### Why CSR is Fast for Row Operations\n",
        "Many common tasks in single-cell analysis are per-row (per-cell):\n",
        "\n",
        "* total UMI counts per cell\n",
        "\n",
        "* mitochondrial fractions\n",
        "\n",
        "* number of detected genes per cell\n",
        "\n",
        "In CSR, each row’s values are stored contiguously in data, with start/end marked by indptr.\n",
        "That means row operations are just `O(nnz)`, with good cache locality.\n",
        "\n",
        "### Why CSR is Slower for Column Operations\n",
        "\n",
        "Column entries are scattered across rows, not contiguous.\n",
        "So column sums require “hunting” through many rows, which is slower.\n",
        "If you care about per-column operations, you often convert to CSC format.\n",
        "\n",
        "### CSC: The Mirror Image\n",
        "Compressed Sparse Column (CSC) flips the idea:\n",
        "\n",
        "* data/indices are grouped by column.\n",
        "\n",
        "* indptr marks column boundaries.\n",
        "\n",
        "CSC is ideal for per-column (per-gene) work.\n",
        "That’s why R’s Matrix package uses CSC (dgCMatrix) by default.\n",
        "In CSC:\n",
        "* per-gene ops are “free”\n",
        "\n",
        "* per-cell ops require either transposing or special functions\n",
        "\n",
        "## Common Pitfalls\n",
        "Sparse matrices save huge amounts of memory, but only if you stay within the sparse world. Many “convenient” operations in numpy/pandas land are secretly dense, and if you aren’t careful, you can blow up memory without realizing it.\n",
        "\n",
        "1. Boolean masks and densification\n",
        "\n",
        "Pretend we are counting detected genes with something like\n",
        "```\n",
        "genes_per_cell = (X > 0).sum(axis=1).A1\n",
        "```\n",
        "Here’s what happens\n",
        "\n",
        "  1. `(X > 0)` creates a new sparse matrix of the same `nnz `pattern, but with dtype `bool`.\n",
        "\n",
        "    * This doubles your memory use temporarily (since both `X` and (X > 0)` exist).\n",
        "\n",
        "  2. `.sum(axis=1)` computes row sums, but the result is still a matrix object.\n",
        "\n",
        "  3. `.A1` (or `.toarray()`) forces dense materialization.\n",
        "\n",
        "    * At this point, you’ve asked Python to allocate `n_rows × n_cols` floats in memory.\n",
        "\n",
        "    * For large single-cell datasets, this can be tens of gigabytes, even if the original sparse matrix fit comfortably in RAM.\n",
        "\n",
        "\n",
        "---\n",
        "\n",
        "\n",
        "2. Implicit Conversions to Dense\n",
        "Many of the default function calls in popular packages (numpy, sklearn, pandas) don't support sparse arrays. If you pass a sparse matrix to them, they will silently convert to dense behind the senses. Meaning:\n",
        "\n",
        "* a 21 GB sparse matrix might suddenly try to allocate 100GB+\n",
        "\n",
        "Examples:\n",
        "\n",
        "* `.mean(axis=0)` on a SciPy sparse matrix → densifies\n",
        "* `Using `np.log1p(X)` directly on sparse → densifies.\n",
        "* Converting sparse → pandas DataFrame (`pd.DataFrame(X)`) → densifies\n",
        "\n",
        "Safer alternatives:\n",
        "\n",
        "* Use sparse-aware functions: scipy.sparse has its own `.sum`, `.getnnz`, etc.\n",
        "\n",
        "* For elementwise transforms, use specialized functions like `sparsefuncs.log1p` from `sklearn.utils.extmath` or libraries like `scanpy/anndata` that wrap these safely.\n",
        "---\n",
        "\n",
        "\n",
        "3. Copy-on-write behavior\n",
        "Sparse matrices don’t always behave like numpy arrays with views. Many slicing operations return new copies of arrays (data, indices, indptr). If you repeatedly slice in a loop, you may be silently creating many copies of large structures.\n",
        "---\n",
        "\n",
        "4. Awareness of dtype\n",
        "\n",
        "Your values (data) are often float32 (4 bytes).\n",
        "\n",
        "But if you accidentally convert to float64, memory doubles instantly.\n",
        "\n",
        "Similarly, some sparse constructors default to int64 indices instead of int32, doubling index storage.\n",
        "\n",
        "**Packages like SciPy's functions will often solve all of these issues for you, but it's still useful to understand when you wander off path**"
      ],
      "metadata": {
        "id": "c5b5SRuJH5M_"
      },
      "id": "c5b5SRuJH5M_"
    },
    {
      "cell_type": "markdown",
      "source": [
        "# 2. Tools to find bottlenecks - Measuring before optimizing\n",
        "\n",
        "Our goal in this section is not to optimize, rather to measure and understand.\n",
        "*   What the matrix looks like in memory\n",
        "*   How common tasks scale\n",
        "*   What densification does to memory and runtime\n",
        "\n",
        "Once we can name bottlenecks with evidence, targeted optimizations are much more obvious.\n",
        "\n",
        "\n",
        "\n",
        "\n",
        "\n",
        "\n"
      ],
      "metadata": {
        "id": "xn7v9zNO_7rx"
      },
      "id": "xn7v9zNO_7rx"
    },
    {
      "cell_type": "markdown",
      "source": [
        "## 2.1 Inspect the matrix in memory (shape, density, bytes)\n",
        "\n",
        "how big is the matrix, how sparse is it, and what would it cost if someone accidentally made it dense?\n",
        "\n",
        "density tells you whether sparse is still paying off; the dense vs CSR bytes show your safety margin."
      ],
      "metadata": {
        "id": "6aAVb2dpXzMc"
      },
      "id": "6aAVb2dpXzMc"
    },
    {
      "cell_type": "code",
      "source": [
        "adata = sc.read_10x_h5(\"/content/320k_Human_PBMCs_Sub_Pool_16-plex_GEM-X_FLEX_PBMC_BC1-16_count_sample_filtered_feature_bc_matrix.h5\")\n",
        "adata.var_names_make_unique()"
      ],
      "metadata": {
        "id": "h2Ov5iO6EIRX"
      },
      "id": "h2Ov5iO6EIRX",
      "execution_count": null,
      "outputs": []
    },
    {
      "cell_type": "code",
      "source": [
        "# ——— Download (only once) ———\n",
        "# !wget -O bone_marrow.h5 \\\n",
        "#   https://cf.10xgenomics.com/samples/cell-vdj/6.1.0/10k_BMMNC_5pv2_nextgem_10k_BMMNC_5pv2_nextgem/10k_BMMNC_5pv2_nextgem_10k_BMMNC_5pv2_nextgem_count_sample_feature_bc_matrix.h5\n",
        "\n",
        "import scanpy as sc\n",
        "from scipy import sparse\n",
        "import numpy as np\n",
        "import time, statistics as stats, psutil, os, gc\n",
        "\n",
        "# If not already loaded:\n",
        "#adata = sc.read_10x_h5(\"/content/320k_Human_PBMCs_Sub_Pool_16-plex_GEM-X_FLEX_PBMC_BC1-16_count_sample_filtered_feature_bc_matrix.h5\")\n",
        "#adata.var_names_make_unique()\n",
        "\n",
        "\n",
        "def rss_mb():\n",
        "    return psutil.Process(os.getpid()).memory_info().rss / 1e6\n",
        "\n",
        "class Stopwatch:\n",
        "    def __init__(self, label): self.label = label\n",
        "    def __enter__(self):\n",
        "        gc.collect()\n",
        "        self._rss0 = rss_mb()\n",
        "        self._t0 = time.perf_counter()\n",
        "    def __exit__(self, *exc):\n",
        "        dt = time.perf_counter() - self._t0\n",
        "        drss = rss_mb() - self._rss0\n",
        "        print(f\"{self.label}: {dt:.3f}s | RSS Δ {drss:+.1f} MB (now {rss_mb():.1f} MB)\")\n",
        "\n",
        "def bench(fn, *args, repeats=3, warmup=1, **kwargs):\n",
        "    for _ in range(warmup): fn(*args, **kwargs)\n",
        "    times = []\n",
        "    for _ in range(repeats):\n",
        "        t0 = time.perf_counter()\n",
        "        fn(*args, **kwargs)\n",
        "        times.append(time.perf_counter() - t0)\n",
        "    return dict(median_s=stats.median(times), mean_s=float(np.mean(times)),\n",
        "                min_s=min(times), max_s=max(times), n=repeats)\n",
        "\n",
        "def matrix_stats(X, name=\"X\"):\n",
        "    if sparse.issparse(X):\n",
        "        m, n = X.shape\n",
        "        nnz = X.nnz\n",
        "        density = nnz/(m*n)\n",
        "        dense_bytes = m*n*4  # float32\n",
        "        csr_bytes = nnz*(4+4) + (m+1)*4  # data(float32)+indices(int32)+indptr(int32)\n",
        "        print(f\"{name}: sparse {X.format} {X.shape}, nnz={nnz:,} (density={density:.4%}), dtype={X.dtype}\")\n",
        "        print(f\"  ~Dense(float32) if materialized: {dense_bytes/1e9:.2f} GB\")\n",
        "        print(f\"  ~CSR payload (data+idx+indptr): {csr_bytes/1e6:.1f} MB  (excl. Python overhead)\")\n",
        "    else:\n",
        "        print(f\"{name}: dense {X.shape}, dtype={getattr(X,'dtype',None)}, nbytes={getattr(X,'nbytes',0)/1e9:.2f} GB\")\n",
        "\n",
        "from scipy import sparse as sp\n",
        "def ensure_csr_float32(X):\n",
        "    if sp.isspmatrix_csr(X):\n",
        "        return X.astype(np.float32, copy=False)\n",
        "    return X.tocsr().astype(np.float32, copy=False)\n",
        "\n",
        "print(f\"AnnData: n_obs={adata.n_obs:,}, n_var={adata.n_vars:,}\")\n",
        "adata.X = ensure_csr_float32(adata.X)\n",
        "matrix_stats(adata.X, \"adata.X (CSR/float32)\")\n",
        "\n"
      ],
      "metadata": {
        "colab": {
          "base_uri": "https://localhost:8080/"
        },
        "id": "93gw3OImv3IX",
        "outputId": "7358540c-8789-44f6-fa9b-2fe67eeca37a"
      },
      "id": "93gw3OImv3IX",
      "execution_count": null,
      "outputs": [
        {
          "output_type": "stream",
          "name": "stdout",
          "text": [
            "AnnData: n_obs=289,331, n_var=18,129\n",
            "adata.X (CSR/float32): sparse csr (289331, 18129), nnz=935,809,081 (density=17.8410%), dtype=float32\n",
            "  ~Dense(float32) if materialized: 20.98 GB\n",
            "  ~CSR payload (data+idx+indptr): 7487.6 MB  (excl. Python overhead)\n"
          ]
        }
      ]
    },
    {
      "cell_type": "markdown",
      "source": [
        "## What the matrix looks like\n",
        "Our dataset has 289,331 cells × 18,129 genes, with ~935.8M non-zero entries.\n",
        "\n",
        "* Density ≈ 17.84% → still sparse enough that CSR is beneficial.\n",
        "\n",
        "* Dense float32 footprint ≈ 21.0 GB.\n",
        "\n",
        "* CSR payload ≈ 7.5 GB (data + indices + indptr, excluding Python overhead).\n",
        "\n",
        "At this density, CSR saves ~2.8× memory, though we’re close to the “edge zone” where index overhead becomes more noticeable."
      ],
      "metadata": {
        "id": "A7IgsQ78W_ec"
      },
      "id": "A7IgsQ78W_ec"
    },
    {
      "cell_type": "markdown",
      "source": [
        "## 2.2 Time Scanpy QC to spot fixed overheads vs row-wise work\n",
        "Now we measure a realistic multi-pass routine. Expect some fixed overhead and several row-wise passes; the full run vs a subset gives a sense of scaling and where time is spent."
      ],
      "metadata": {
        "id": "6hYSulUGX-Os"
      },
      "id": "6hYSulUGX-Os"
    },
    {
      "cell_type": "code",
      "source": [
        "def qc_metrics(adata_):\n",
        "    sc.pp.calculate_qc_metrics(adata_, percent_top=None, log1p=False, inplace=True)\n",
        "\n",
        "with Stopwatch(\"QC metrics (full copy)\"):\n",
        "    qc_metrics(adata.copy())\n",
        "\n",
        "n_demo = min(80_000, adata.n_obs)\n",
        "with Stopwatch(f\"QC metrics (subset {n_demo:,})\"):\n",
        "    qc_metrics(adata[:n_demo,:].copy())\n"
      ],
      "metadata": {
        "colab": {
          "base_uri": "https://localhost:8080/"
        },
        "id": "xzYWTSs4A3cx",
        "outputId": "c3138548-8dd3-4e76-e084-24fd9e5f06b8"
      },
      "id": "xzYWTSs4A3cx",
      "execution_count": null,
      "outputs": [
        {
          "output_type": "stream",
          "name": "stdout",
          "text": [
            "QC metrics (full copy): 9.783s | RSS Δ +0.1 MB (now 10625.0 MB)\n",
            "QC metrics (subset 80,000): 5.394s | RSS Δ +0.3 MB (now 10625.3 MB)\n"
          ]
        }
      ]
    },
    {
      "cell_type": "markdown",
      "source": [
        "## QC Metrics: multi-pass overhead\n",
        "\n",
        "Running Scanpy’s calculate_qc_metrics:\n",
        "\n",
        "* Full copy (289k cells): ~9.78s\n",
        "\n",
        "* Subset (80k cells): ~5.39s\n",
        "\n",
        "This is not perfectly linear with n, because the function does several passes and bookkeeping tasks. Still, the cost is dominated by row-wise work, which matches what CSR is good at."
      ],
      "metadata": {
        "id": "I6-_RkjZXSQt"
      },
      "id": "I6-_RkjZXSQt"
    },
    {
      "cell_type": "markdown",
      "source": [
        "## 2.3 Measure a pure row-wise kernel across sizes\n",
        "\n",
        "We benchmark mitochondrial fraction, a straightforward row reduction. If CSR fits the workload, you should see smooth, near-linear scaling with n."
      ],
      "metadata": {
        "id": "QgYDgVWlYFps"
      },
      "id": "QgYDgVWlYFps"
    },
    {
      "cell_type": "code",
      "source": [
        "mito_mask = np.fromiter((g.startswith(\"MT-\") for g in adata.var_names), dtype=bool)\n",
        "\n",
        "def mito_fraction_vec(X, mito_mask):\n",
        "    if sp.issparse(X):\n",
        "        num = X[:, mito_mask].sum(axis=1).A1\n",
        "        den = X.sum(axis=1).A1\n",
        "    else:\n",
        "        num = X[:, mito_mask].sum(axis=1)\n",
        "        den = X.sum(axis=1)\n",
        "    out = np.divide(num, den, out=np.zeros_like(num, dtype=np.float32), where=den>0)\n",
        "    return out\n",
        "\n",
        "sizes = [20_000, 40_000, 80_000, 160_000, min(320_000, adata.n_obs)]\n",
        "cpu_curve = []\n",
        "for n in sizes:\n",
        "    subX = adata.X[:n, :]\n",
        "    stats_n = bench(lambda: mito_fraction_vec(subX, mito_mask), repeats=3, warmup=1)\n",
        "    cpu_curve.append((n, stats_n[\"median_s\"]))\n",
        "    print(f\"mito_fraction_vec n={n:>6}: {stats_n}\")\n"
      ],
      "metadata": {
        "colab": {
          "base_uri": "https://localhost:8080/"
        },
        "id": "R3PeyYjPA5v2",
        "outputId": "ac939de1-5ed4-4d33-90d2-576e07f14b50"
      },
      "id": "R3PeyYjPA5v2",
      "execution_count": null,
      "outputs": [
        {
          "output_type": "stream",
          "name": "stdout",
          "text": [
            "mito_fraction_vec n= 20000: {'median_s': 0.15986045399949944, 'mean_s': 0.16111667266644267, 'min_s': 0.15954597699965234, 'max_s': 0.1639435870001762, 'n': 3}\n",
            "mito_fraction_vec n= 40000: {'median_s': 0.3227266129997588, 'mean_s': 0.3246616669991151, 'min_s': 0.3221335949983768, 'max_s': 0.3291247929992096, 'n': 3}\n",
            "mito_fraction_vec n= 80000: {'median_s': 0.6394602919990575, 'mean_s': 0.6403345810000852, 'min_s': 0.6314820660008991, 'max_s': 0.6500613850002992, 'n': 3}\n",
            "mito_fraction_vec n=160000: {'median_s': 1.297852285000772, 'mean_s': 1.2947686590002074, 'min_s': 1.2806189630009612, 'max_s': 1.3058347289988887, 'n': 3}\n",
            "mito_fraction_vec n=289331: {'median_s': 2.322633675999896, 'mean_s': 2.32081454766679, 'min_s': 2.313078230999963, 'max_s': 2.326731736000511, 'n': 3}\n"
          ]
        }
      ]
    },
    {
      "cell_type": "markdown",
      "source": [
        "## Scaling: row-wise mito fraction\n",
        "We measured per-cell mitochondrial fraction (a row-wise reduction) across increasing numbers of cells:\n",
        "\n",
        "* 20k → 0.16s\n",
        "\n",
        "* 40k → 0.32s\n",
        "\n",
        "* 80k → 0.64s\n",
        "\n",
        "* 160k → 1.30s\n",
        "\n",
        "* 289k → 2.32s\n",
        "\n",
        "This is almost perfectly linear scaling. Throughput stays stable at ~120–130k cells/sec. That’s exactly what we’d expect: CSR stores each row contiguously, so row reductions are `O(nnz)` with good cache locality.\n",
        "\n",
        "Takeaway: CSR delivers efficient row-wise ops — the backbone of per-cell QC and summary metrics."
      ],
      "metadata": {
        "id": "F_jeggcPXmtg"
      },
      "id": "F_jeggcPXmtg"
    },
    {
      "cell_type": "markdown",
      "source": [
        "## 2.4 Dangers of densification\n",
        "\n",
        "Accidental densification is the most common way pipelines blow up. Here we deliberately convert a modest slice to dense and hold it to capture the real memory impact."
      ],
      "metadata": {
        "id": "OuAjMoAEYMPl"
      },
      "id": "OuAjMoAEYMPl"
    },
    {
      "cell_type": "code",
      "source": [
        "from scipy import sparse as sp\n",
        "\n",
        "def force_dense_and_hold(X):\n",
        "    if sp.issparse(X):\n",
        "        D = X.toarray()  # allocate dense (n_rows x n_cols)\n",
        "    else:\n",
        "        D = np.asarray(X, order=\"C\")\n",
        "    # Do a tiny op to ensure it's touched\n",
        "    out = D.sum(axis=1)\n",
        "    return D, out\n",
        "\n",
        "n_safe = min(25_000, adata.n_obs)\n",
        "subX = adata.X[:n_safe, :]\n",
        "\n",
        "print(\"Before:\", rss_mb(), \"MB\")\n",
        "with Stopwatch(\"force_dense_and_hold\"):\n",
        "    D_held, _out = force_dense_and_hold(subX)\n",
        "print(\"After holding dense:\", rss_mb(), \"MB\")\n",
        "\n",
        "# Keep D_held alive for a moment (optional: inspect top)\n",
        "# time.sleep(2)\n",
        "\n",
        "# Cleanup\n",
        "del D_held, _out; gc.collect()\n",
        "print(\"After cleanup:\", rss_mb(), \"MB\")\n"
      ],
      "metadata": {
        "colab": {
          "base_uri": "https://localhost:8080/"
        },
        "id": "9Pn6VwYfA7JU",
        "outputId": "c453fb9b-31f7-4d51-b150-ad8e3536ea66"
      },
      "id": "9Pn6VwYfA7JU",
      "execution_count": null,
      "outputs": [
        {
          "output_type": "stream",
          "name": "stdout",
          "text": [
            "Before: 11275.620352 MB\n",
            "force_dense_and_hold: 2.270s | RSS Δ +1812.9 MB (now 12439.1 MB)\n",
            "After holding dense: 12439.097344 MB\n",
            "After cleanup: 10626.224128 MB\n"
          ]
        }
      ]
    },
    {
      "cell_type": "markdown",
      "source": [
        "## Densification: the real hazard\n",
        "\n",
        "We  tested the “what if I accidentally densify” scenario with a 25k × 18,129 slice:\n",
        "\n",
        "CSR payload ≈ 650 MB\n",
        "\n",
        "Dense float32 equivalent ≈ 1.81 GB\n",
        "\n",
        "Observed RAM jump: +1.81 GB while the dense copy was held\n",
        "\n",
        "This validates the caution: densifying isn’t a rounding error — even a modest slice can balloon memory by gigabytes. In larger pipelines, those dense temporaries often stick around (via chained expressions or DataFrame conversions), which can silently push you into OOM territory."
      ],
      "metadata": {
        "id": "u3I3opuLYUni"
      },
      "id": "u3I3opuLYUni"
    },
    {
      "cell_type": "markdown",
      "source": [
        "## Takeaways\n",
        "\n",
        "* The matrix is sparse enough for CSR to pay off; row-wise ops scale linearly and fast.\n",
        "\n",
        "* QC has multi-pass overhead but remains row-dominated, aligning with CSR strengths.\n",
        "\n",
        "* Densification is a gigabyte-scale event even for modest slices; avoid it unless it’s a small, deliberate block."
      ],
      "metadata": {
        "id": "nH9rXFjFYfcx"
      },
      "id": "nH9rXFjFYfcx"
    },
    {
      "cell_type": "markdown",
      "source": [
        "# 3. Vectorization\n",
        "\n",
        "## 3.1 Primer - What is vectorization and why it matters\n",
        "\n",
        "Non-vectorized (Python loop): You write an explicit for loop in Python and operate on one element at a time. Every iteration goes through the Python interpreter → slow overhead, poor cache usage.\n",
        "\n",
        "Vectorized (array operation): You express the work as a whole-array operation (sum, multiply, log, etc.). The heavy lifting happens inside optimized C/CUDA kernels, touching millions of elements in a tight, compiled loop.\n",
        "\n",
        "Example:\n",
        "\n",
        "Imagine we want to multiply two arrays `a` and `b`.\n",
        "\n",
        "**Scalar**\n",
        "```\n",
        "a = [1, 2, 3, 4]\n",
        "b = [5, 6, 7, 8]\n",
        "```\n",
        "```\n",
        "take a[0], b[0] → 1*5 = 5 → store\n",
        "take a[1], b[1] → 2*6 = 12 → store\n",
        "take a[2], b[2] → 3*7 = 21 → store\n",
        "take a[3], b[3] → 4*8 = 32 → store\n",
        "```\n",
        "```\n",
        " [1]   [2]   [3]   [4]\n",
        "   ×     ×     ×     ×      (each step separate)\n",
        " [5]   [6]   [7]   [8]\n",
        "\n",
        " → [5] [12] [21] [32]\n",
        "```\n",
        "Each multiplication is its own  job — the “vector” is not visible as a whole, just a sequence of scalars.\n",
        "\n",
        "**Vectorized (treat arrays as one object)**\n",
        "\n",
        "Now, same math (dot product), but expressed as a whole operation:\n",
        "\n",
        "```\n",
        "c = a · b\n",
        "```\n",
        "\n",
        "\n",
        "```\n",
        "     [1   2   3   4]\n",
        "   ⨉ [5   6   7   8]\n",
        "   -------------------\n",
        "     [5  12  21  32]\n",
        "\n",
        "```\n",
        "\n",
        "\n",
        "## Why it’s faster\n",
        "\n",
        "* Interpreter overhead: Python loops pay a cost per iteration; vectorized ops pay one cost per whole array.\n",
        "\n",
        "* Cache and memory locality: compiled kernels access memory contiguously and predictably, while Python loops jump around object references.\n",
        "\n",
        "* Parallelism under the hood: libraries can use SIMD (vector CPU instructions), multithreading, or GPU CUDA kernels automatically.\n",
        "\n",
        "* Fewer passes: combining operations reduces memory bandwidth usage.\n"
      ],
      "metadata": {
        "id": "S_b4IAGcarmo"
      },
      "id": "S_b4IAGcarmo"
    },
    {
      "cell_type": "markdown",
      "source": [
        "### 3.2 sparse CSR: per-cell totals, loop vs vectorized\n",
        "\n",
        "We compare a Python row loop (`getrow().sum()`) to the vectorized sparse reduction"
      ],
      "metadata": {
        "id": "NLjuhAh3dFHB"
      },
      "id": "NLjuhAh3dFHB"
    },
    {
      "cell_type": "code",
      "source": [
        "from scipy import sparse as sp\n",
        "import numpy as np, time, statistics as stats\n",
        "\n",
        "X = adata.X  # CSR float32 from Part 2\n",
        "\n",
        "def loop_counts_per_cell(X):\n",
        "    m = X.shape[0]\n",
        "    out = np.empty(m, dtype=np.float32)\n",
        "    for i in range(m):\n",
        "        out[i] = X.getrow(i).sum()\n",
        "    return out\n",
        "\n",
        "def vect_counts_per_cell(X):\n",
        "    return X.sum(axis=1).A1\n",
        "\n",
        "def bench(fn, *args, repeats=3, warmup=1, **kwargs):\n",
        "    for _ in range(warmup): fn(*args, **kwargs)\n",
        "    ts = []\n",
        "    for _ in range(repeats):\n",
        "        t0 = time.perf_counter()\n",
        "        fn(*args, **kwargs)\n",
        "        ts.append(time.perf_counter() - t0)\n",
        "    return dict(median_s=stats.median(ts), mean_s=float(np.mean(ts)),\n",
        "                min_s=min(ts), max_s=max(ts), n=repeats)\n",
        "\n",
        "n_demo = min(40_000, X.shape[0])\n",
        "print(\"loop_counts_per_cell:\", bench(loop_counts_per_cell, X[:n_demo,:]))\n",
        "print(\"vect_counts_per_cell:\", bench(vect_counts_per_cell, X[:n_demo,:]))\n"
      ],
      "metadata": {
        "colab": {
          "base_uri": "https://localhost:8080/"
        },
        "id": "L4LuAVVYEq__",
        "outputId": "c027bd6a-edbf-4a3c-bd03-370114f7a285"
      },
      "id": "L4LuAVVYEq__",
      "execution_count": null,
      "outputs": [
        {
          "output_type": "stream",
          "name": "stdout",
          "text": [
            "loop_counts_per_cell: {'median_s': 3.9722902630001045, 'mean_s': 3.970004134333673, 'min_s': 3.962057611999626, 'max_s': 3.975664528001289, 'n': 3}\n",
            "vect_counts_per_cell: {'median_s': 0.05190052400030254, 'mean_s': 0.05413572200025859, 'min_s': 0.04996352800117165, 'max_s': 0.06054311399930157, 'n': 3}\n"
          ]
        }
      ]
    },
    {
      "cell_type": "markdown",
      "source": [
        "### Loop vs Vectorizd on CSR\n",
        "\n",
        "Per-cell totals (40k rows)\n",
        "\n",
        "* Loop: 3.972 s\n",
        "\n",
        "* Vectorized: 0.0519 s\n",
        "\n",
        "* ≈ 76× faster\n",
        "\n",
        "Why: the vectorized reduction treats the whole matrix as one object and walks contiguous row segments; the loop does 40k tiny jobs and pays per-iteration overhead."
      ],
      "metadata": {
        "id": "93halL00fyQ0"
      },
      "id": "93halL00fyQ0"
    },
    {
      "cell_type": "markdown",
      "source": [
        "## 3.3 Elementwise transform on sparse: touch .data (vectorized)\n",
        "\n",
        "We scale-and-shift the non-zeros in one shot by operating on the CSR data buffer. Then we compare to a scalar loop over that buffer."
      ],
      "metadata": {
        "id": "56QYF__XdP-B"
      },
      "id": "56QYF__XdP-B"
    },
    {
      "cell_type": "code",
      "source": [
        "import numpy as np\n",
        "from scipy import sparse as sp\n",
        "import time, statistics as stats\n",
        "\n",
        "def scale_shift_sparse(X, a=1.2, b=0.7):\n",
        "    Y = X.copy()\n",
        "    Y.data = Y.data * a + b\n",
        "    return Y\n",
        "\n",
        "def scale_shift_loop(X, a=1.2, b=0.7):\n",
        "    Y = X.copy()\n",
        "    d = Y.data\n",
        "    for i in range(d.size):\n",
        "        d[i] = d[i] * a + b\n",
        "    return Y\n",
        "\n",
        "def bench(fn, *args, repeats=3, warmup=1, **kwargs):\n",
        "    for _ in range(warmup): fn(*args, **kwargs)\n",
        "    ts = []\n",
        "    for _ in range(repeats):\n",
        "        t0 = time.perf_counter()\n",
        "        fn(*args, **kwargs)\n",
        "        ts.append(time.perf_counter() - t0)\n",
        "    return dict(median_s=stats.median(ts), mean_s=float(np.mean(ts)),\n",
        "                min_s=min(ts), max_s=max(ts), n=repeats)\n",
        "\n",
        "subX = X[:1000,:]\n",
        "print(\"scale_shift_loop:\", bench(scale_shift_loop, subX))\n",
        "print(\"scale_shift_sparse:\", bench(scale_shift_sparse, subX))\n"
      ],
      "metadata": {
        "colab": {
          "base_uri": "https://localhost:8080/"
        },
        "id": "dtzfcf11dNJR",
        "outputId": "c3b8c929-aed1-407a-a07a-38a89b9ee269"
      },
      "id": "dtzfcf11dNJR",
      "execution_count": null,
      "outputs": [
        {
          "output_type": "stream",
          "name": "stdout",
          "text": [
            "scale_shift_loop: {'median_s': 5.757489456000258, 'mean_s': 5.747247039000285, 'min_s': 5.724614021000889, 'max_s': 5.75963763999971, 'n': 3}\n",
            "scale_shift_sparse: {'median_s': 0.0071631329992669635, 'mean_s': 0.007237320999289902, 'min_s': 0.007122330998754478, 'max_s': 0.007426498999848263, 'n': 3}\n"
          ]
        }
      ]
    },
    {
      "cell_type": "markdown",
      "source": [
        "## Elementwise on sparse: operate on .data\n",
        "\n",
        "Scale-and-shift nonzeros (50k rows slice)\n",
        "\n",
        "* Loop over nonzeros: 5.757 s\n",
        "\n",
        "* Vectorized on X.data: 0.00716 s\n",
        "\n",
        "* ≈ 800× faster\n",
        "\n",
        "Lesson: when you can express the operation as “apply function to all nonzeros,” touch CSR.data directly. You skip zeros entirely and do exactly one pass."
      ],
      "metadata": {
        "id": "9SgyhSASgHta"
      },
      "id": "9SgyhSASgHta"
    },
    {
      "cell_type": "markdown",
      "source": [
        "### 3.4 Broadcast safely: per-cell normalization without densifying\n",
        "\n",
        "Row-normalize using a diagonal multiply (sparse-safe). This is the canonical way to avoid broadcasting traps that create dense temporaries.\n",
        "\n",
        "Sidenote: Broadcasting is NumPy/Scipy's way of automatically expanding arrays of different shapes so you can combine them without looping.\n",
        "\n",
        "With dense matrices, Numpy broadcasting is cheap but with Scipy sparse you can often experience unintended densification because sparse matrices don't fully support Numpy's broadcasting rules. So below we are showing one way to ensure Scipy doesn't silently densify."
      ],
      "metadata": {
        "id": "qgOsRxpYdWQM"
      },
      "id": "qgOsRxpYdWQM"
    },
    {
      "cell_type": "code",
      "source": [
        "import numpy as np\n",
        "from scipy import sparse as sp\n",
        "import time, statistics as stats\n",
        "\n",
        "def row_normalize_csr(X):\n",
        "    counts = X.sum(axis=1).A1\n",
        "    scale = np.divide(1.0, counts, out=np.zeros_like(counts, dtype=np.float32), where=counts>0)\n",
        "    D = sp.diags(scale, offsets=0, dtype=np.float32, format=\"csr\")\n",
        "    return D @ X\n",
        "\n",
        "def bench(fn, *args, repeats=3, warmup=1, **kwargs):\n",
        "    for _ in range(warmup): fn(*args, **kwargs)\n",
        "    ts = []\n",
        "    for _ in range(repeats):\n",
        "        t0 = time.perf_counter()\n",
        "        fn(*args, **kwargs)\n",
        "        ts.append(time.perf_counter() - t0)\n",
        "    return dict(median_s=stats.median(ts), mean_s=float(np.mean(ts)),\n",
        "                min_s=min(ts), max_s=max(ts), n=repeats)\n",
        "\n",
        "print(\"row_normalize_csr:\", bench(row_normalize_csr, X[:80_000,:]))\n"
      ],
      "metadata": {
        "colab": {
          "base_uri": "https://localhost:8080/"
        },
        "id": "hWJnQKrAdVbp",
        "outputId": "8a6de01f-4f7e-460f-95fb-a3a10ebd0728"
      },
      "id": "hWJnQKrAdVbp",
      "execution_count": null,
      "outputs": [
        {
          "output_type": "stream",
          "name": "stdout",
          "text": [
            "row_normalize_csr: {'median_s': 2.2612861880006676, 'mean_s': 2.2661139726666684, 'min_s': 2.260578056000668, 'max_s': 2.27647767399867, 'n': 3}\n"
          ]
        }
      ]
    },
    {
      "cell_type": "markdown",
      "source": [
        "### 3.5 Fuse passes: reuse intermediates (mito fraction example)\n",
        "\n",
        "We compute mitochondrial fraction two ways: naïve (two sums) vs fused (reuse precomputed row totals)."
      ],
      "metadata": {
        "id": "ipXQUOUbdj2S"
      },
      "id": "ipXQUOUbdj2S"
    },
    {
      "cell_type": "code",
      "source": [
        "import numpy as np\n",
        "from scipy import sparse as sp\n",
        "import time, statistics as stats\n",
        "\n",
        "mito_mask = np.fromiter((g.startswith(\"MT-\") for g in adata.var_names), dtype=bool)\n",
        "\n",
        "def mito_fraction_naive(X, mito_mask):\n",
        "    num = X[:, mito_mask].sum(axis=1).A1\n",
        "    den = X.sum(axis=1).A1\n",
        "    return np.divide(num, den, out=np.zeros_like(num, dtype=np.float32), where=den>0)\n",
        "\n",
        "def mito_fraction_fused(X, mito_mask, row_counts=None):\n",
        "    if row_counts is None:\n",
        "        row_counts = X.sum(axis=1).A1\n",
        "    num = X[:, mito_mask].sum(axis=1).A1\n",
        "    return np.divide(num, row_counts, out=np.zeros_like(num, dtype=np.float32), where=row_counts>0)\n",
        "\n",
        "def bench(fn, *args, repeats=3, warmup=1, **kwargs):\n",
        "    for _ in range(warmup): fn(*args, **kwargs)\n",
        "    ts = []\n",
        "    for _ in range(repeats):\n",
        "        t0 = time.perf_counter()\n",
        "        fn(*args, **kwargs)\n",
        "        ts.append(time.perf_counter() - t0)\n",
        "    return dict(median_s=stats.median(ts), mean_s=float(np.mean(ts)),\n",
        "                min_s=min(ts), max_s=max(ts), n=repeats)\n",
        "\n",
        "subX = X[:160_000,:]\n",
        "row_counts = subX.sum(axis=1).A1\n",
        "print(\"naive:\", bench(mito_fraction_naive, subX, mito_mask))\n",
        "print(\"fused (cached counts):\", bench(mito_fraction_fused, subX, mito_mask, row_counts=row_counts))\n"
      ],
      "metadata": {
        "colab": {
          "base_uri": "https://localhost:8080/"
        },
        "id": "wCFzEDlBdgnj",
        "outputId": "4b3693de-982b-4dc7-fe71-8f448702b8be"
      },
      "id": "wCFzEDlBdgnj",
      "execution_count": null,
      "outputs": [
        {
          "output_type": "stream",
          "name": "stdout",
          "text": [
            "naive: {'median_s': 1.2879675139993196, 'mean_s': 1.2942474799995882, 'min_s': 1.276605152999764, 'max_s': 1.3181697729996813, 'n': 3}\n",
            "fused (cached counts): {'median_s': 1.0758264319993032, 'mean_s': 1.0748436906663603, 'min_s': 1.0687177370000427, 'max_s': 1.0799869029997353, 'n': 3}\n"
          ]
        }
      ]
    },
    {
      "cell_type": "markdown",
      "source": [
        "## Broadcast safely: row normalization without traps\n",
        "\n",
        "Row-normalize (80k rows slice)\n",
        "\n",
        "* Diagonal-multiply approach: 2.261 s\n",
        "\n",
        "This is already vectorized and sparse-safe (no densification), but the cost is dominated by building the diagonal + a sparse matmul. Keep this result in mind—we’ll beat it in Part 5 with a row-scaling kernel that multiplies each row’s data segment in place. Same math, fewer moving parts.\n",
        "\n",
        "Fuse passes when you can\n",
        "\n",
        "Mito fraction (160k rows)\n",
        "\n",
        "* Naïve (two sums): 1.288 s\n",
        "\n",
        "* Fused (reuse row counts): 1.076 s\n",
        "\n",
        "* ~20% faster\n",
        "\n",
        "Even vectorized code can burn bandwidth if it revisits the matrix. Cache shared intermediates (row totals, masks) to avoid extra passes."
      ],
      "metadata": {
        "id": "47-ihfm8gWkU"
      },
      "id": "47-ihfm8gWkU"
    },
    {
      "cell_type": "markdown",
      "source": [
        "### 3.6 Vectorized scaling curve (with a small loop baseline)\n",
        "\n",
        "We replicate the Part-2 style scaling for the vectorized mito calculation and overlay a tiny loop baseline so the structural benefit is visible."
      ],
      "metadata": {
        "id": "ZkJ0rmX6dv7K"
      },
      "id": "ZkJ0rmX6dv7K"
    },
    {
      "cell_type": "code",
      "source": [
        "import numpy as np, time, statistics as stats\n",
        "import matplotlib.pyplot as plt\n",
        "from scipy import sparse as sp\n",
        "\n",
        "def bench_vect_mito(X, mito_mask, n_list):\n",
        "    out = []\n",
        "    for n in n_list:\n",
        "        sub = X[:n,:]\n",
        "        t = bench(lambda: (sub[:, mito_mask].sum(axis=1).A1, sub.sum(axis=1).A1), repeats=3)['median_s']\n",
        "        out.append((n, t))\n",
        "        print(f\"n={n:>6} vectorized mito: {t:.3f}s\")\n",
        "    return out\n",
        "\n",
        "def bench_loop_counts(X, n_list):\n",
        "    out = []\n",
        "    for n in n_list:\n",
        "        sub = X[:n,:]\n",
        "        t = bench(lambda: [sub.getrow(i).sum() for i in range(n)], repeats=1, warmup=0)['median_s']\n",
        "        out.append((n, t))\n",
        "        print(f\"n={n:>6} loop row sums:   {t:.3f}s\")\n",
        "    return out\n",
        "\n",
        "n_list_small = [5_000, 10_000, 20_000, 40_000]\n",
        "rows_vect = bench_vect_mito(X, mito_mask, n_list_small)\n",
        "rows_loop = bench_loop_counts(X, n_list_small)\n",
        "\n",
        "ns_v = np.array([r[0] for r in rows_vect]); tv = np.array([r[1] for r in rows_vect])\n",
        "ns_l = np.array([r[0] for r in rows_loop]); tl = np.array([r[1] for r in rows_loop])\n",
        "\n",
        "import matplotlib.pyplot as plt\n",
        "plt.figure()\n",
        "plt.plot(ns_v, tv, marker=\"o\", label=\"vectorized mito (CSR)\")\n",
        "plt.plot(ns_l, tl, marker=\"o\", label=\"loop row sums (baseline)\")\n",
        "plt.xlabel(\"cells (n)\")\n",
        "plt.ylabel(\"seconds\")\n",
        "plt.title(\"Vectorized vs Loop scaling\")\n",
        "plt.legend()\n",
        "plt.show()\n"
      ],
      "metadata": {
        "colab": {
          "base_uri": "https://localhost:8080/",
          "height": 482
        },
        "id": "KhI-OLKHdvkX",
        "outputId": "b61a5ee3-2ff0-46fe-dd8e-7ab68a705b34"
      },
      "id": "KhI-OLKHdvkX",
      "execution_count": null,
      "outputs": [
        {
          "output_type": "stream",
          "name": "stdout",
          "text": [
            "n=  5000 vectorized mito: 0.040s\n",
            "n= 10000 vectorized mito: 0.082s\n",
            "n= 20000 vectorized mito: 0.164s\n",
            "n= 40000 vectorized mito: 0.320s\n",
            "n=  5000 loop row sums:   0.504s\n",
            "n= 10000 loop row sums:   0.991s\n",
            "n= 20000 loop row sums:   1.985s\n",
            "n= 40000 loop row sums:   3.944s\n"
          ]
        },
        {
          "output_type": "display_data",
          "data": {
            "text/plain": [
              "<Figure size 320x320 with 1 Axes>"
            ],
            "image/png": "[encoded data removed]"
          },
          "metadata": {
            "image/png": {
              "width": 315,
              "height": 318
            }
          }
        }
      ]
    },
    {
      "cell_type": "markdown",
      "source": [
        "## 4. Sparsity-Savvy Ops\n",
        "\n",
        "Not all sparse operations are equal\n",
        "\n",
        "### 4.1 Row counts: boolean temp vs getnnz\n",
        "\n",
        "Counting nonzeros per row is a classic pitfall. Boolean masks look vectorized but create new sparse structures; getnnz is cheaper and avoids densification. Let’s measure both."
      ],
      "metadata": {
        "id": "I17m1wgJyCZK"
      },
      "id": "I17m1wgJyCZK"
    },
    {
      "cell_type": "code",
      "source": [
        "from scipy import sparse as sp\n",
        "import numpy as np, statistics as stats, time\n",
        "\n",
        "def bench(fn, *args, repeats=3, warmup=1, **kwargs):\n",
        "    for _ in range(warmup): fn(*args, **kwargs)\n",
        "    ts = []\n",
        "    for _ in range(repeats):\n",
        "        t0 = time.perf_counter()\n",
        "        fn(*args, **kwargs)\n",
        "        ts.append(time.perf_counter() - t0)\n",
        "    return dict(median_s=stats.median(ts), mean_s=float(np.mean(ts)),\n",
        "                min_s=min(ts), max_s=max(ts), n=repeats)\n",
        "\n",
        "def genes_per_cell_getnnz(X):\n",
        "    return X.getnnz(axis=1)\n",
        "\n",
        "def genes_per_cell_boolean(X):\n",
        "    return np.asarray((X > 0).sum(axis=1)).ravel()\n",
        "\n",
        "subX = adata.X[:40_000,:]\n",
        "print(\"getnnz:\", bench(genes_per_cell_getnnz, subX))\n",
        "print(\"boolean:\", bench(genes_per_cell_boolean, subX))\n"
      ],
      "metadata": {
        "id": "8Tv07231d1qr",
        "colab": {
          "base_uri": "https://localhost:8080/"
        },
        "outputId": "87ba5a97-eb21-462b-b5a2-70d0ebeb897e"
      },
      "id": "8Tv07231d1qr",
      "execution_count": null,
      "outputs": [
        {
          "output_type": "stream",
          "name": "stdout",
          "text": [
            "getnnz: {'median_s': 1.3445009244605899e-05, 'mean_s': 1.557865956177314e-05, 'min_s': 1.2559990864247084e-05, 'max_s': 2.073097857646644e-05, 'n': 3}\n",
            "boolean: {'median_s': 0.7257259640027769, 'mean_s': 0.7260426096715188, 'min_s': 0.7230394780053757, 'max_s': 0.7293623870064039, 'n': 3}\n"
          ]
        }
      ]
    },
    {
      "cell_type": "markdown",
      "source": [
        "\n",
        "Counting genes per cell: `getnnz` vs boolean temp\n",
        "\n",
        "* `getnnz`: 0.000013 s\n",
        "\n",
        "* Boolean mask: 0.726 s\n",
        "\n",
        "That’s a ~50,000× speedup. Why?\n",
        "\n",
        "* `getnnz` directly counts nonzeros row by row using the CSR index structure.\n",
        "\n",
        "* `(X > 0)` builds a whole new sparse boolean matrix and then sums it.\n",
        "\n",
        "Takeaway: for detection counts, always prefer `getnnz`. It avoids memory waste and runs in microseconds.\n",
        "\n",
        "---\n",
        "\n",
        "\n",
        "### 4.2 Column sums: CSR vs CSC\n",
        "\n",
        "CSR is row-friendly, CSC is column-friendly. We’ll compare column sums done directly in CSR vs after a one-time CSC conversion."
      ],
      "metadata": {
        "id": "K0Kp480byQzf"
      },
      "id": "K0Kp480byQzf"
    },
    {
      "cell_type": "code",
      "source": [
        "def col_sums_csr(X):\n",
        "    return np.asarray(X.sum(axis=0)).ravel()\n",
        "\n",
        "def col_sums_csc(X):\n",
        "    Xc = X.tocsc()\n",
        "    return np.asarray(Xc.sum(axis=0)).ravel()\n",
        "\n",
        "subX = adata.X[:40_000,:]\n",
        "print(\"col_sums_csr:\", bench(col_sums_csr, subX))\n",
        "print(\"col_sums_csc:\", bench(col_sums_csc, subX))\n"
      ],
      "metadata": {
        "colab": {
          "base_uri": "https://localhost:8080/"
        },
        "id": "tffMVYRgxT-G",
        "outputId": "f25a7cb5-bd3b-4418-a764-3736c233682d"
      },
      "id": "tffMVYRgxT-G",
      "execution_count": null,
      "outputs": [
        {
          "output_type": "stream",
          "name": "stdout",
          "text": [
            "col_sums_csr: {'median_s': 0.14801824200549163, 'mean_s': 0.14785454766630815, 'min_s': 0.14687072299420834, 'max_s': 0.1486746779992245, 'n': 3}\n",
            "col_sums_csc: {'median_s': 1.8990398200112395, 'mean_s': 1.8993665896705352, 'min_s': 1.8879537030006759, 'max_s': 1.9111062459996901, 'n': 3}\n"
          ]
        }
      ]
    },
    {
      "cell_type": "markdown",
      "source": [
        "#### Column sums: CSR vs CSC\n",
        "\n",
        "* CSR: 0.148 s\n",
        "\n",
        "* CSC: 1.899 s\n",
        "\n",
        "This shows the classic tradeoff:\n",
        "\n",
        "CSR is row-optimized. Doing column work directly in CSR is cheaper than converting for one op.\n",
        "\n",
        "CSC pays the one-time conversion, but shines if you batch multiple column ops.\n",
        "\n",
        "\n",
        "---\n",
        "\n",
        "\n",
        "### 4.3 Batch multiple column ops after one conversion\n",
        "\n",
        "The best pattern is: convert once, do many column operations, then (optionally) convert back. This avoids paying the conversion cost repeatedly."
      ],
      "metadata": {
        "id": "d__82GElyWX8"
      },
      "id": "d__82GElyWX8"
    },
    {
      "cell_type": "code",
      "source": [
        "def col_ops_batched(X):\n",
        "    Xc = X.tocsc()\n",
        "    s1 = np.asarray(Xc.sum(axis=0)).ravel()\n",
        "    s2 = Xc.getnnz(axis=0)\n",
        "    s3 = np.asarray(Xc.power(2).sum(axis=0)).ravel()\n",
        "    return s1, s2, s3\n",
        "\n",
        "subX = adata.X[:40_000,:]\n",
        "print(\"batched column ops:\", bench(col_ops_batched, subX))\n"
      ],
      "metadata": {
        "colab": {
          "base_uri": "https://localhost:8080/"
        },
        "id": "dH-bO_wxxWxq",
        "outputId": "e1f86a9c-ca71-4bf4-bbce-cab1240611f4"
      },
      "id": "dH-bO_wxxWxq",
      "execution_count": null,
      "outputs": [
        {
          "output_type": "stream",
          "name": "stdout",
          "text": [
            "batched column ops: {'median_s': 2.405151458020555, 'mean_s': 2.4064764560122662, 'min_s': 2.404300422000233, 'max_s': 2.409977488016011, 'n': 3}\n"
          ]
        }
      ]
    },
    {
      "cell_type": "markdown",
      "source": [
        "#### Batched column ops (CSC)\n",
        "\n",
        "* Doing three column ops after one conversion: 2.405 s\n",
        "\n",
        "* That’s only slightly slower than the conversion itself, because the ops become “free” once in CSC.\n",
        "\n",
        "Pattern:\n",
        "\n",
        "* If you only need one column op → stay in CSR.\n",
        "\n",
        "* If you need many → convert once to CSC, batch them, and optionally convert back.\n",
        "\n",
        "\n",
        "---\n",
        "\n"
      ],
      "metadata": {
        "id": "6K7Uc9V70ZVh"
      },
      "id": "6K7Uc9V70ZVh"
    },
    {
      "cell_type": "markdown",
      "source": [
        "### 4.4 Anti-pattern: densification through NumPy APIs\n",
        "\n",
        "Some NumPy functions don’t understand sparse matrices. Let’s show how np.mean on a SciPy sparse matrix forces a dense conversion."
      ],
      "metadata": {
        "id": "nnPtpqKXycZE"
      },
      "id": "nnPtpqKXycZE"
    },
    {
      "cell_type": "code",
      "source": [
        "def dense_mean(X):\n",
        "    return np.mean(X)\n",
        "\n",
        "subX = adata.X[:5000,:]  # keep safe size\n",
        "print(\"np.mean on sparse (forces dense!):\")\n",
        "with Stopwatch(\"np.mean(sparse)\"):\n",
        "    _ = dense_mean(subX)\n"
      ],
      "metadata": {
        "colab": {
          "base_uri": "https://localhost:8080/"
        },
        "id": "_FwF1OpXxYCB",
        "outputId": "a447239b-073b-4343-fad7-fe3062d7a05d"
      },
      "id": "_FwF1OpXxYCB",
      "execution_count": null,
      "outputs": [
        {
          "output_type": "stream",
          "name": "stdout",
          "text": [
            "np.mean on sparse (forces dense!):\n",
            "np.mean(sparse): 0.200s | RSS Δ +0.0 MB (now 12744.8 MB)\n"
          ]
        }
      ]
    },
    {
      "cell_type": "markdown",
      "source": [
        "#### Anti-pattern: NumPy APIs on sparse\n",
        "\n",
        "`np.mean(X)` on a sparse slice ran in 0.200 s and (here) didn’t spike RSS much, but only because you used a small slice. Under the hood, this forces a dense array. On a real slice with 25k × 18k cells, you’d see multi-GB blowups.\n",
        "\n",
        "Rule: if you see plain NumPy functions on a sparse matrix, assume it’s dangerous unless explicitly sparse-aware. Or at least test it using the above tools\n",
        "\n",
        "\n",
        "---\n",
        "\n"
      ],
      "metadata": {
        "id": "xi03sN-J0iTW"
      },
      "id": "xi03sN-J0iTW"
    },
    {
      "cell_type": "markdown",
      "source": [
        "## 5. CPU Micro-Optimizations\n",
        "\n",
        "Vectorization gets us 10×–100× wins. Micro-optimizations give the last 2×–3× by reducing overhead, improving cache locality, and avoiding waste. This section covers:\n",
        "\n",
        "* Dtype discipline: `float32` / `int32` only.\n",
        "\n",
        "* Row-scaling in place: avoid `D @ X`.\n",
        "\n",
        "* Block processing: keep data in cache.\n",
        "\n",
        "* Numba kernels: for custom transforms on `.data`.\n",
        "\n",
        "### 5.1 Dtype inflation doubles memory\n",
        "\n",
        "Show how `float64` silently doubles payload vs `float32`."
      ],
      "metadata": {
        "id": "pHEBpJlxyiJe"
      },
      "id": "pHEBpJlxyiJe"
    },
    {
      "cell_type": "code",
      "source": [
        "def mem_bytes_csr(X):\n",
        "    return X.data.nbytes + X.indices.nbytes + X.indptr.nbytes\n",
        "\n",
        "X32 = adata.X.astype(np.float32, copy=True)\n",
        "X64 = adata.X.astype(np.float64, copy=True)\n",
        "\n",
        "print(\"float32 bytes:\", mem_bytes_csr(X32))\n",
        "print(\"float64 bytes:\", mem_bytes_csr(X64))\n"
      ],
      "metadata": {
        "colab": {
          "base_uri": "https://localhost:8080/"
        },
        "id": "6tzXI7RvxZw2",
        "outputId": "8cde61bd-2334-42f8-c71b-86b755e37108"
      },
      "id": "6tzXI7RvxZw2",
      "execution_count": null,
      "outputs": [
        {
          "output_type": "stream",
          "name": "stdout",
          "text": [
            "float32 bytes: 7487629976\n",
            "float64 bytes: 11230866300\n"
          ]
        }
      ]
    },
    {
      "cell_type": "markdown",
      "source": [
        "#### Dtype discipline\n",
        "\n",
        "* CSR `float32`: ~7.49 GB\n",
        "\n",
        "* CSR `float64`: ~11.23 GB\n",
        "\n",
        "That’s 50% more memory for zero extra information. Same for `int64` indices. Always store values as `float32` and indices as `int32`.\n",
        "\n",
        "---\n",
        "\n"
      ],
      "metadata": {
        "id": "mUqOX-fe0v9e"
      },
      "id": "mUqOX-fe0v9e"
    },
    {
      "cell_type": "markdown",
      "source": [
        "### 5.2 Row-normalization: diag multiply vs in-place row scale\n",
        "\n",
        "Compare the “safe but heavy” diagonal approach from Part 3 to a lean in-place row scaling kernel that touches each row’s data segment once."
      ],
      "metadata": {
        "id": "OD8ewja8y4Y8"
      },
      "id": "OD8ewja8y4Y8"
    },
    {
      "cell_type": "code",
      "source": [
        "def row_normalize_diag(X):\n",
        "    counts = X.sum(axis=1).A1\n",
        "    scale = np.divide(1.0, counts, out=np.zeros_like(counts, dtype=np.float32), where=counts>0)\n",
        "    D = sp.diags(scale, offsets=0, dtype=np.float32, format=\"csr\")\n",
        "    return D @ X\n",
        "\n",
        "def row_normalize_inplace(X):\n",
        "    X = X.copy()\n",
        "    counts = X.sum(axis=1).A1\n",
        "    scale = np.divide(1.0, counts, out=np.zeros_like(counts, dtype=np.float32), where=counts>0)\n",
        "    for i in range(X.shape[0]):\n",
        "        start, end = X.indptr[i], X.indptr[i+1]\n",
        "        if scale[i] != 0:\n",
        "            X.data[start:end] *= scale[i]\n",
        "    return X\n",
        "\n",
        "subX = adata.X[:80_000,:]\n",
        "print(\"row_normalize_diag:\", bench(row_normalize_diag, subX))\n",
        "print(\"row_normalize_inplace:\", bench(row_normalize_inplace, subX))\n"
      ],
      "metadata": {
        "colab": {
          "base_uri": "https://localhost:8080/"
        },
        "id": "gUFZzFKQxbMF",
        "outputId": "4ed0c639-9006-45a0-88ed-96fc0ac5c5c9"
      },
      "id": "gUFZzFKQxbMF",
      "execution_count": null,
      "outputs": [
        {
          "output_type": "stream",
          "name": "stdout",
          "text": [
            "row_normalize_diag: {'median_s': 2.2259483500092756, 'mean_s': 2.225888760003727, 'min_s': 2.2219033279980067, 'max_s': 2.2298146020038985, 'n': 3}\n",
            "row_normalize_inplace: {'median_s': 1.2840500500169583, 'mean_s': 1.286525678326143, 'min_s': 1.28124573698733, 'max_s': 1.2942812479741406, 'n': 3}\n"
          ]
        }
      ]
    },
    {
      "cell_type": "markdown",
      "source": [
        "\n",
        "### Advanced: 5.3 Numba for custom elementwise transforms\n",
        "\n",
        "Numba is a just in time (JIT) compiler for python focused on numerical arrays. You decorate a Python function with `@numba.njit`, and Numba compiles it to fast machine code the first time you call it.\n",
        "\n",
        "Caveats:\n",
        "\n",
        "* Compilation has overhead on the first call; use warmup runs before timing.\n",
        "\n",
        "* Works best on numeric arrays with simple loops; struggles with Python objects.\n",
        "\n",
        "* Debugging JIT’d code is trickier (can’t step through like normal Python)."
      ],
      "metadata": {
        "id": "4VVQotq6y87T"
      },
      "id": "4VVQotq6y87T"
    },
    {
      "cell_type": "code",
      "source": [
        "import numpy as np\n",
        "from scipy import sparse as sp\n",
        "import time, statistics as stats\n",
        "import numba as nb\n",
        "\n",
        "def bench(fn, *args, repeats=3, warmup=1, **kwargs):\n",
        "    for _ in range(warmup): fn(*args, **kwargs)\n",
        "    ts = []\n",
        "    for _ in range(repeats):\n",
        "        t0 = time.perf_counter()\n",
        "        fn(*args, **kwargs)\n",
        "        ts.append(time.perf_counter() - t0)\n",
        "    return dict(median_s=stats.median(ts), mean_s=float(np.mean(ts)),\n",
        "                min_s=min(ts), max_s=max(ts), n=repeats)\n",
        "\n",
        "# Piecewise parameters\n",
        "t1 = 1.0\n",
        "t2 = 5.0\n",
        "alpha = 0.5\n",
        "\n",
        "# --- 1) Python loop baseline\n",
        "def piecewise_python(X, t1=t1, t2=t2, alpha=alpha):\n",
        "    Y = X.copy()\n",
        "    d = Y.data\n",
        "    for i in range(d.size):\n",
        "        x = d[i]\n",
        "        if x < t1:\n",
        "            d[i] = alpha * x\n",
        "        elif x < t2:\n",
        "            d[i] = np.log1p(x)\n",
        "        else:\n",
        "            d[i] = np.sqrt(x)\n",
        "    return Y\n",
        "\n",
        "# --- 2) NumPy masking (vectorized with multiple passes + masks)\n",
        "def piecewise_numpy_masks(X, t1=t1, t2=t2, alpha=alpha):\n",
        "    Y = X.copy()\n",
        "    d = Y.data\n",
        "    m1 = d < t1\n",
        "    m2 = (~m1) & (d < t2)\n",
        "    m3 = ~(m1 | m2)\n",
        "    d[m1] = alpha * d[m1]\n",
        "    d[m2] = np.log1p(d[m2])\n",
        "    d[m3] = np.sqrt(d[m3])\n",
        "    return Y\n",
        "\n",
        "# Optional: np.select variant (also allocates full-size temporaries)\n",
        "def piecewise_numpy_select(X, t1=t1, t2=t2, alpha=alpha):\n",
        "    Y = X.copy()\n",
        "    d = Y.data\n",
        "    Y.data = np.select(\n",
        "        [d < t1, d < t2],\n",
        "        [alpha * d, np.log1p(d)],\n",
        "        default=np.sqrt(d)\n",
        "    ).astype(d.dtype, copy=False)\n",
        "    return Y\n",
        "\n",
        "# --- 3) Numba single-pass, branchy kernel (no masks)\n",
        "@nb.njit(cache=True, fastmath=True)\n",
        "def _piecewise_kernel(d, t1, t2, alpha):\n",
        "    for i in range(d.size):\n",
        "        x = d[i]\n",
        "        if x < t1:\n",
        "            d[i] = alpha * x\n",
        "        elif x < t2:\n",
        "            d[i] = np.log1p(x)\n",
        "        else:\n",
        "            d[i] = np.sqrt(x)\n",
        "\n",
        "def piecewise_numba(X, t1=t1, t2=t2, alpha=alpha):\n",
        "    Y = X.copy()\n",
        "    _piecewise_kernel(Y.data, t1, t2, alpha)\n",
        "    return Y\n",
        "\n",
        "# ---- Benchmark on a realistic slice\n",
        "subX = adata.X[:100, :]  # increase/decrease as your machine allows\n",
        "\n",
        "print(\"Warm up Numba…\")\n",
        "_ = piecewise_numba(subX)\n",
        "\n",
        "print(\"python loop:\", bench(piecewise_python, subX))\n",
        "print(\"numpy masks:\", bench(piecewise_numpy_masks, subX))\n",
        "print(\"numpy select:\", bench(piecewise_numpy_select, subX))\n",
        "print(\"numba single-pass:\", bench(piecewise_numba, subX))\n"
      ],
      "metadata": {
        "colab": {
          "base_uri": "https://localhost:8080/"
        },
        "id": "MuyRRk--xc-q",
        "outputId": "802ae34c-6b0e-4e67-82c3-e7a5fcc26f2e"
      },
      "id": "MuyRRk--xc-q",
      "execution_count": null,
      "outputs": [
        {
          "output_type": "stream",
          "name": "stdout",
          "text": [
            "Warm up Numba…\n",
            "python loop: {'median_s': 1.30168483700254, 'mean_s': 1.2997610680079863, 'min_s': 1.293608893000055, 'max_s': 1.303989474021364, 'n': 3}\n",
            "numpy masks: {'median_s': 0.004838541004573926, 'mean_s': 0.004852356670501952, 'min_s': 0.004779270006110892, 'max_s': 0.004939259000821039, 'n': 3}\n",
            "numpy select: {'median_s': 0.002205534983659163, 'mean_s': 0.002208151990392556, 'min_s': 0.0021943429892417043, 'max_s': 0.0022245779982768, 'n': 3}\n",
            "numba single-pass: {'median_s': 0.004716848983662203, 'mean_s': 0.004716882326950629, 'min_s': 0.00470307600335218, 'max_s': 0.004730721993837506, 'n': 3}\n"
          ]
        }
      ]
    },
    {
      "cell_type": "markdown",
      "source": [
        "### 5.4 Block/tile demo (optional)\n",
        "\n",
        "Operating on all genes at once can overflow caches. Here we tile the columns into smaller blocks to keep working sets in L2/L3."
      ],
      "metadata": {
        "id": "_kWEff9mzAMH"
      },
      "id": "_kWEff9mzAMH"
    },
    {
      "cell_type": "code",
      "source": [
        "def hvg_blocked(X, block_size=2000):\n",
        "    n = X.shape[1]\n",
        "    vars = []\n",
        "    for start in range(0, n, block_size):\n",
        "        end = min(start+block_size, n)\n",
        "        A = X[:, start:end].toarray().astype(np.float32, copy=False)\n",
        "        vars.append(A.var(axis=0))\n",
        "    return np.concatenate(vars)\n",
        "\n",
        "subX = adata.X[:40_000,:]\n",
        "print(\"hvg_blocked:\", bench(hvg_blocked, subX))\n"
      ],
      "metadata": {
        "colab": {
          "base_uri": "https://localhost:8080/"
        },
        "id": "ROHS9hxdxffx",
        "outputId": "1fe6e445-9e78-4d9d-dac4-e2ff9cea3dcf"
      },
      "id": "ROHS9hxdxffx",
      "execution_count": null,
      "outputs": [
        {
          "output_type": "stream",
          "name": "stdout",
          "text": [
            "hvg_blocked: {'median_s': 8.301487449003616, 'mean_s': 8.295305196671203, 'min_s': 8.278520805004518, 'max_s': 8.305907336005475, 'n': 3}\n"
          ]
        }
      ]
    },
    {
      "cell_type": "markdown",
      "source": [
        "### Block/tile processing\n",
        "\n",
        "Blocked HVG proxy: 8.30 s for 40k cells.\n",
        "\n",
        "This method keeps working sets cache-friendly by slicing columns into blocks. It’s slower than lightweight row ops, but essential for expensive column-wise statistics (variance, correlations) when matrices get very wide."
      ],
      "metadata": {
        "id": "w5pcqlmS2DVP"
      },
      "id": "w5pcqlmS2DVP"
    },
    {
      "cell_type": "markdown",
      "source": [
        "## 6. When and How to Use the GPU\n",
        "\n",
        "GPU acceleration can feel like a silver bullet, but it only wins under the right conditions. The key is to know when transfer costs dominate vs when workloads are big enough to amortize them.\n",
        "\n",
        "Heuristics\n",
        "\n",
        "* Yes: large matrix operations (PCA, KNN graph, UMAP, batched elementwise ops).\n",
        "\n",
        "* No: tiny slices, heavy Python control flow, or memory-bound row sums on small datasets.\n",
        "\n",
        "* Critical rule: once you move data to GPU, keep it there for as much of the pipeline as possible. Avoid CPU↔GPU ping-pong.\n",
        "\n",
        "\n",
        "\n",
        "---\n",
        "\n",
        "### 6.1 CuPy basics: a drop-in NumPy\n",
        "\n",
        "We’ll start with a dense demo. CuPy arrays behave like NumPy arrays, but live on the GPU. Expect timings to look worse on tiny arrays (transfer cost dominates), but better on big ones."
      ],
      "metadata": {
        "id": "YqWiucUw4HCU"
      },
      "id": "YqWiucUw4HCU"
    },
    {
      "cell_type": "code",
      "source": [
        "import cupy as cp\n",
        "import numpy as np, time\n",
        "\n",
        "def bench(fn, *args, repeats=3, warmup=1, **kwargs):\n",
        "    for _ in range(warmup): fn(*args, **kwargs)\n",
        "    ts = []\n",
        "    for _ in range(repeats):\n",
        "        t0 = time.perf_counter()\n",
        "        fn(*args, **kwargs)\n",
        "        ts.append(time.perf_counter() - t0)\n",
        "    return dict(median_s=np.median(ts), mean_s=float(np.mean(ts)),\n",
        "                min_s=min(ts), max_s=max(ts), n=repeats)\n",
        "\n",
        "n = 5_000_000\n",
        "x_cpu = np.random.rand(n).astype(np.float32)\n",
        "x_gpu = cp.asarray(x_cpu)\n",
        "\n",
        "print(\"CPU sum:\", bench(lambda: x_cpu.sum()))\n",
        "print(\"GPU sum (resident):\", bench(lambda: x_gpu.sum()))\n"
      ],
      "metadata": {
        "colab": {
          "base_uri": "https://localhost:8080/"
        },
        "id": "Kt28mfSE2Kae",
        "outputId": "0ee3f612-91e2-4500-fad6-6217525911b2"
      },
      "id": "Kt28mfSE2Kae",
      "execution_count": null,
      "outputs": [
        {
          "output_type": "stream",
          "name": "stdout",
          "text": [
            "CPU sum: {'median_s': 0.0019603009859565645, 'mean_s': 0.001969521321977178, 'min_s': 0.0019528029952198267, 'max_s': 0.0019954599847551435, 'n': 3}\n",
            "GPU sum (resident): {'median_s': 0.0003212369920220226, 'mean_s': 0.0003279416705481708, 'min_s': 0.000268882024101913, 'max_s': 0.00039370599552057683, 'n': 3}\n"
          ]
        }
      ]
    },
    {
      "cell_type": "markdown",
      "source": [
        "### Dense “hello world”: summing 5M floats\n",
        "\n",
        "* CPU sum: 0.00196 s\n",
        "\n",
        "* GPU sum (already on device): 0.000321 s\n",
        "\n",
        "~6× faster on GPU when the array is already resident.\n",
        "\n",
        "Moral: once data is on the GPU, even simple reductions get a consistent speedup. But the transfer has to be amortized\n",
        "\n",
        "\n",
        "---\n",
        "\n"
      ],
      "metadata": {
        "id": "QHJDY1177bDT"
      },
      "id": "QHJDY1177bDT"
    },
    {
      "cell_type": "markdown",
      "source": [
        "### 6.2 Sparse matrices with CuPy\n",
        "\n",
        "CuPy has `cupyx.scipy.sparse` which mirrors SciPy’s sparse formats. Let’s move our AnnData matrix to GPU as CSR and benchmark a row sum."
      ],
      "metadata": {
        "id": "PlHRbnEz5rLT"
      },
      "id": "PlHRbnEz5rLT"
    },
    {
      "cell_type": "code",
      "source": [
        "from cupyx.scipy import sparse as cpx_sp\n",
        "\n",
        "def to_cupy_csr(X):\n",
        "    from scipy import sparse as sp\n",
        "    if sp.isspmatrix_csr(X):\n",
        "        return cpx_sp.csr_matrix((cp.asarray(X.data),\n",
        "                                  cp.asarray(X.indices),\n",
        "                                  cp.asarray(X.indptr)),\n",
        "                                 shape=X.shape)\n",
        "    return cpx_sp.csr_matrix(X.tocsr())\n",
        "\n",
        "Xg = to_cupy_csr(adata.X)\n",
        "\n",
        "def gpu_row_sums(Xg):\n",
        "    return Xg.sum(axis=1).get().ravel()\n",
        "\n",
        "subX = adata.X[:40_000,:]\n",
        "subXg = to_cupy_csr(subX)\n",
        "\n",
        "print(\"CPU row sums:\", bench(lambda: subX.sum(axis=1).A1))\n",
        "print(\"GPU row sums:\", bench(lambda: gpu_row_sums(subXg)))\n"
      ],
      "metadata": {
        "colab": {
          "base_uri": "https://localhost:8080/"
        },
        "id": "djuJIP_d5iV1",
        "outputId": "dfbd46b7-6a12-4bc8-a770-dd4ad2830c1b"
      },
      "id": "djuJIP_d5iV1",
      "execution_count": null,
      "outputs": [
        {
          "output_type": "stream",
          "name": "stdout",
          "text": [
            "CPU row sums: {'median_s': 0.05175546099781059, 'mean_s': 0.051829414325766265, 'min_s': 0.05166531799477525, 'max_s': 0.05206746398471296, 'n': 3}\n",
            "GPU row sums: {'median_s': 0.004674978990806267, 'mean_s': 0.004725466996508961, 'min_s': 0.004659167985664681, 'max_s': 0.0048422540130559355, 'n': 3}\n"
          ]
        }
      ]
    },
    {
      "cell_type": "markdown",
      "source": [
        "### Sparse CSR row sums (40k × 18k slice)\n",
        "\n",
        "* CPU row sums: 0.0518 s\n",
        "\n",
        "* GPU row sums (resident): 0.00467 s\n",
        "\n",
        "* ~11× faster on GPU for the same operation.\n",
        "\n",
        "Transfer cost (host → device)\n",
        "\n",
        "* 40k-row CSR to GPU: ~0.248 s\n",
        "\n",
        "Put together:\n",
        "\n",
        "* If you transfer once and run many ops (PCA → KNN → UMAP → clustering), the ~0.25 s “toll” fades into the noise.\n",
        "\n",
        "* If you bounce back and forth, you’ll erase the speedup. Keep the pipeline GPU-resident after the first hop.\n",
        "\n",
        "---\n",
        "\n",
        "\n",
        "### 6.3 RAPIDS cuDF: GPU DataFrames\n",
        "\n",
        "For obs/var DataFrame operations (groupbys, joins), cuDF provides a GPU-accelerated replacement for pandas. Let’s demo a simple groupby."
      ],
      "metadata": {
        "id": "8h3IeEms54IE"
      },
      "id": "8h3IeEms54IE"
    },
    {
      "cell_type": "code",
      "source": [
        "import cudf\n",
        "\n",
        "counts = adata.X.sum(axis=1).A1.astype(np.float32)\n",
        "gdf = cudf.DataFrame({\"counts\": cp.asarray(counts)})\n",
        "gdf[\"bin\"] = (gdf[\"counts\"] > 1000).astype(\"int8\")\n",
        "\n",
        "print(\"GPU groupby mean:\")\n",
        "print(gdf.groupby(\"bin\").counts.mean().to_pandas())\n"
      ],
      "metadata": {
        "colab": {
          "base_uri": "https://localhost:8080/"
        },
        "id": "pmzfbe_n520i",
        "outputId": "f2a07b15-0205-42e8-ec26-26679057f60a"
      },
      "id": "pmzfbe_n520i",
      "execution_count": null,
      "outputs": [
        {
          "output_type": "stream",
          "name": "stdout",
          "text": [
            "GPU groupby mean:\n",
            "bin\n",
            "0     733.258743\n",
            "1    9076.485380\n",
            "Name: counts, dtype: float64\n"
          ]
        }
      ]
    },
    {
      "cell_type": "markdown",
      "source": [
        "## 7. Hybrid Pipelines\n",
        "\n",
        "The sweet spot is often split workflows: use the CPU for cheap preprocessing, then move to GPU for expensive linear algebra.\n",
        "\n",
        "\n",
        "---\n",
        "\n",
        "\n",
        "### 7.1 CPU preprocessing (QC)\n",
        "\n",
        "We’ll run QC metrics on CPU, as before."
      ],
      "metadata": {
        "id": "0WjIsCqA6DfO"
      },
      "id": "0WjIsCqA6DfO"
    },
    {
      "cell_type": "code",
      "source": [
        "import scanpy as sc\n",
        "\n",
        "def qc_metrics(adata_):\n",
        "    sc.pp.calculate_qc_metrics(adata_, percent_top=None, log1p=False, inplace=True)\n",
        "\n",
        "qc_metrics(adata[:40_000,:].copy())  # CPU slice for demo\n"
      ],
      "metadata": {
        "id": "3MEghcKK5_FP"
      },
      "id": "3MEghcKK5_FP",
      "execution_count": null,
      "outputs": []
    },
    {
      "cell_type": "markdown",
      "source": [
        "### 7.2 Transfer once to GPU\n",
        "\n",
        "Now move the processed matrix to GPU. Measure the transfer cost separately so you can see when it’s worth it."
      ],
      "metadata": {
        "id": "QSGJXW1H6I5V"
      },
      "id": "QSGJXW1H6I5V"
    },
    {
      "cell_type": "code",
      "source": [
        "subX = adata.X[:40_000,:]\n",
        "\n",
        "def transfer_to_gpu(X):\n",
        "    return to_cupy_csr(X)\n",
        "\n",
        "print(\"Transfer 40k slice to GPU:\")\n",
        "print(bench(transfer_to_gpu, subX))\n"
      ],
      "metadata": {
        "colab": {
          "base_uri": "https://localhost:8080/"
        },
        "id": "ESI6Y5N36Gw_",
        "outputId": "40b6211e-5b8c-4cdb-a1e8-7e0806880d23"
      },
      "id": "ESI6Y5N36Gw_",
      "execution_count": null,
      "outputs": [
        {
          "output_type": "stream",
          "name": "stdout",
          "text": [
            "Transfer 40k slice to GPU:\n",
            "{'median_s': 0.24823900000774302, 'mean_s': 0.24861315032467246, 'min_s': 0.24495537197799422, 'max_s': 0.25264507898828015, 'n': 3}\n"
          ]
        }
      ]
    },
    {
      "cell_type": "markdown",
      "source": [
        "### 7.3 GPU linear algebra (PCA → neighbors → clustering)\n",
        "\n",
        "RAPIDS cuml provides GPU PCA and KNN. The pattern is: keep everything on GPU until you have small results to bring back."
      ],
      "metadata": {
        "id": "rMXFqoNK6NJe"
      },
      "id": "rMXFqoNK6NJe"
    },
    {
      "cell_type": "code",
      "source": [
        "import numpy as np\n",
        "import scanpy as sc\n",
        "import cupy as cp\n",
        "from cuml.decomposition import PCA as cuPCA\n",
        "from cuml.neighbors import NearestNeighbors\n",
        "\n",
        "# 1) HVGs on CPU\n",
        "adata_tmp = adata[:40_000, :].copy()          # demo subset; scale up as you like\n",
        "sc.pp.highly_variable_genes(adata_tmp, n_top_genes=2000, flavor=\"seurat_v3\", inplace=True)\n",
        "hvg_mask = adata_tmp.var[\"highly_variable\"].values\n",
        "assert hvg_mask.sum() > 0\n",
        "\n",
        "# 2) Slice to HVGs (still CSR on CPU)\n",
        "X_hvg = adata_tmp.X[:, hvg_mask]\n",
        "\n",
        "# 3) Move once to GPU as DENSE (width=~2k → safe)\n",
        "Xg = cp.asarray(X_hvg.toarray(), dtype=cp.float32, order=\"C\")  # deliberate densify after HVG\n",
        "\n",
        "# 4) PCA on GPU\n",
        "pca = cuPCA(n_components=50, svd_solver=\"jacobi\", output_type=\"cupy\", random_state=0)\n",
        "Yg = pca.fit_transform(Xg)                           # (n_cells, 50) on GPU\n",
        "\n",
        "# 5) Neighbors on GPU\n",
        "knn = NearestNeighbors(n_neighbors=15, algorithm=\"brute\")\n",
        "knn.fit(Yg)\n",
        "distances, indices = knn.kneighbors(Yg)\n",
        "\n",
        "print(\"GPU pipeline OK:\", Xg.shape, Yg.shape, indices.shape, type(Yg), type(indices))\n"
      ],
      "metadata": {
        "colab": {
          "base_uri": "https://localhost:8080/"
        },
        "id": "xn9vbxDC6LaP",
        "outputId": "81ad485f-98c9-48e6-fc8b-5f96780f3e75"
      },
      "id": "xn9vbxDC6LaP",
      "execution_count": null,
      "outputs": [
        {
          "output_type": "stream",
          "name": "stdout",
          "text": [
            "extracting highly variable genes\n",
            "--> added\n",
            "    'highly_variable', boolean vector (adata.var)\n",
            "    'highly_variable_rank', float vector (adata.var)\n",
            "    'means', float vector (adata.var)\n",
            "    'variances', float vector (adata.var)\n",
            "    'variances_norm', float vector (adata.var)\n",
            "GPU pipeline OK: (40000, 2000) (40000, 50) (40000, 15) <class 'cupy.ndarray'> <class 'cupy.ndarray'>\n"
          ]
        }
      ]
    },
    {
      "cell_type": "markdown",
      "source": [
        "## 7.4 RAPIDS Single-Cell\n",
        "\n",
        "What is RAPIDS Single-Cell (rsc)?\n",
        "\n",
        "RSC is a GPU-accelerated, Scanpy-compatible toolkit. It aims to be a near drop-in replacement: you keep using `AnnData`, but call `rsc.pp.*` and `rsc.tl.*` for GPU versions of familiar steps (normalize, log1p, HVGs, PCA/TSVD, neighbors, UMAP, clustering). Under the hood it leans on CuPy and RAPIDS cuML/cuGraph. In many workflows you’ll see order-of-magnitude speedups while keeping the Scanpy mental model.\n",
        "\n",
        "Tips:\n",
        "\n",
        "It works with a standard `AnnData`. For best performance, keep data `float32`, and try to keep matrices GPU-resident once you move them there to avoid PCIe ping-pong.\n",
        "\n",
        "You can start with CPU-backed AnnData; rsc will move data as needed. If you want full control, you can put a CuPy dense or CuPy-sparse array into `adata.X` before calling rsc"
      ],
      "metadata": {
        "id": "eAE2uAW-86Mn"
      },
      "id": "eAE2uAW-86Mn"
    },
    {
      "cell_type": "markdown",
      "source": [
        "We’ll run the standard preprocessing and analysis steps on GPU via rsc: total-count normalization → log1p → HVGs (2k) → PCA (50 PCs) → neighbors (k=15) → UMAP. This mirrors the manual pipeline you just ran (HVG → GPU PCA → KNN), but with fewer lines and tight Scanpy compatibility."
      ],
      "metadata": {
        "id": "gHN1Eygq9cdn"
      },
      "id": "gHN1Eygq9cdn"
    },
    {
      "cell_type": "code",
      "source": [
        "import time, statistics as stats\n",
        "import numpy as np\n",
        "import cupy as cp\n",
        "import rapids_singlecell as rsc\n",
        "import scanpy as sc\n",
        "from cupyx.scipy import sparse as cpx_sp\n",
        "from scipy import sparse as sp\n",
        "\n",
        "def gpu_sync():\n",
        "    # ensure all queued GPU work finishes before we stop timers\n",
        "    try:\n",
        "        cp.cuda.Stream.null.synchronize()\n",
        "    except Exception:\n",
        "        pass\n",
        "\n",
        "def bench_once(fn, *args, **kwargs):\n",
        "    t0 = time.perf_counter()\n",
        "    out = fn(*args, **kwargs)\n",
        "    gpu_sync()\n",
        "    return out, (time.perf_counter() - t0)\n",
        "\n",
        "def bench_step(label, fn, *args, **kwargs):\n",
        "    # one warmup + 3 measured runs (use median)\n",
        "    _, _ = bench_once(fn, *args, **kwargs)\n",
        "    ts = []\n",
        "    for _ in range(3):\n",
        "        _, dt = bench_once(fn, *args, **kwargs)\n",
        "        ts.append(dt)\n",
        "    return float(np.median(ts))\n",
        "\n",
        "def to_gpu_csr(X):\n",
        "    X = X.tocsr().astype('float32', copy=False)\n",
        "    return cpx_sp.csr_matrix(\n",
        "        (cp.asarray(X.data), cp.asarray(X.indices), cp.asarray(X.indptr)),\n",
        "        shape=X.shape)\n",
        "\n",
        "def gpu_rsc_pipeline(adata_src, n_top_genes=2000, n_pcs=50, k=15):\n",
        "    A = adata_src.copy()\n",
        "    A.X = to_gpu_csr(A.X)  # ensure GPU CSR\n",
        "\n",
        "    times = {}\n",
        "    times['normalize_total'] = bench_step(\"norm\", rsc.pp.normalize_total, A, target_sum=1e4)\n",
        "    times['log1p']           = bench_step(\"log1p\", rsc.pp.log1p, A)\n",
        "    times['hvg']             = bench_step(\"hvg\", rsc.pp.highly_variable_genes, A, n_top_genes=n_top_genes)\n",
        "    times['pca']             = bench_step(\"pca\", rsc.pp.pca, A, n_comps=n_pcs)\n",
        "    times['neighbors']       = bench_step(\"neighbors\", rsc.pp.neighbors, A, n_neighbors=k)\n",
        "    times['umap']            = bench_step(\"umap\", rsc.tl.umap, A)\n",
        "\n",
        "    total = sum(times.values())\n",
        "    return A, times, total\n",
        "\n",
        "def cpu_scanpy_pipeline(adata_src, n_top_genes=2000, n_pcs=50, k=15):\n",
        "    A = adata_src.copy()\n",
        "\n",
        "    times = {}\n",
        "    # normalize_total in Scanpy 1.11 still supports target_sum; mutates in place\n",
        "    times['normalize_total'] = bench_step(\"norm\", sc.pp.normalize_total, A, target_sum=1e4)\n",
        "\n",
        "    # log1p in Scanpy 1.11 mutates in place by default; DO NOT pass inplace\n",
        "    times['log1p']           = bench_step(\"log1p\", sc.pp.log1p, A)\n",
        "\n",
        "    # HVGs (CPU), inplace by default in this version\n",
        "    times['hvg']             = bench_step(\n",
        "        \"hvg\", sc.pp.highly_variable_genes, A,\n",
        "        n_top_genes=n_top_genes, flavor=\"seurat_v3\"\n",
        "    )\n",
        "\n",
        "    # subset to HVGs before PCA to keep the dense step bounded\n",
        "    hvg_mask = A.var['highly_variable'].values\n",
        "    A = A[:, hvg_mask].copy()\n",
        "\n",
        "    # PCA (CPU; densifies X[:, HVG])\n",
        "    times['pca']             = bench_step(\"pca\", sc.pp.pca, A, n_comps=n_pcs, svd_solver=\"arpack\")\n",
        "\n",
        "    # neighbors + umap (CPU)\n",
        "    times['neighbors']       = bench_step(\"neighbors\", sc.pp.neighbors, A, n_neighbors=k)\n",
        "    times['umap']            = bench_step(\"umap\", sc.tl.umap, A)\n",
        "\n",
        "    total = sum(times.values())\n",
        "    return A, times, total\n",
        "# use the same 40k slice you benchmarked earlier\n",
        "base = adata[:40_000, :]\n",
        "\n",
        "gpu_A, gpu_times, gpu_total = gpu_rsc_pipeline(base, n_top_genes=2000, n_pcs=50, k=15)\n",
        "cpu_A, cpu_times, cpu_total = cpu_scanpy_pipeline(base, n_top_genes=2000, n_pcs=50, k=15)\n",
        "\n",
        "def pretty(d):\n",
        "    return \", \".join(f\"{k}={v:.3f}s\" for k,v in d.items())\n",
        "\n",
        "print(\"\\nGPU (rsc) times:\")\n",
        "print(pretty(gpu_times), f\"| TOTAL={gpu_total:.3f}s\")\n",
        "print(\"GPU shapes:\", gpu_A.obsm['X_pca'].shape, gpu_A.obsm['X_umap'].shape)\n",
        "\n",
        "print(\"\\nCPU (scanpy) times:\")\n",
        "print(pretty(cpu_times), f\"| TOTAL={cpu_total:.3f}s\")\n",
        "print(\"CPU shapes:\", cpu_A.obsm['X_pca'].shape, cpu_A.obsm['X_umap'].shape)\n",
        "\n",
        "print(\"\\nSpeedups (CPU/GPU):\")\n",
        "for k in gpu_times:\n",
        "    if k in cpu_times:\n",
        "        spd = cpu_times[k] / max(1e-9, gpu_times[k])\n",
        "        print(f\"{k:>12}: ×{spd:.1f}\")\n",
        "print(f\"{'TOTAL':>12}: ×{cpu_total/max(1e-9,gpu_total):.1f}\")\n"
      ],
      "metadata": {
        "colab": {
          "base_uri": "https://localhost:8080/",
          "height": 1000
        },
        "id": "wMLbotpd6Qnl",
        "outputId": "5ee0b367-51ef-44e5-cb87-99c540489188"
      },
      "id": "wMLbotpd6Qnl",
      "execution_count": null,
      "outputs": [
        {
          "output_type": "stream",
          "name": "stdout",
          "text": [
            "normalizing counts per cell\n",
            "    finished (0:00:00)\n",
            "normalizing counts per cell\n",
            "    finished (0:00:00)\n",
            "normalizing counts per cell\n",
            "    finished (0:00:00)\n",
            "normalizing counts per cell\n",
            "    finished (0:00:00)\n",
            "WARNING: adata.X seems to be already log-transformed.\n",
            "WARNING: adata.X seems to be already log-transformed.\n",
            "WARNING: adata.X seems to be already log-transformed.\n",
            "extracting highly variable genes\n"
          ]
        },
        {
          "output_type": "stream",
          "name": "stderr",
          "text": [
            "/usr/local/lib/python3.10/dist-packages/legacy_api_wrap/__init__.py:82: UserWarning: `flavor='seurat_v3'` expects raw count data, but non-integers were found.\n",
            "  return fn(*args_all, **kw)\n"
          ]
        },
        {
          "output_type": "stream",
          "name": "stdout",
          "text": [
            "--> added\n",
            "    'highly_variable', boolean vector (adata.var)\n",
            "    'highly_variable_rank', float vector (adata.var)\n",
            "    'means', float vector (adata.var)\n",
            "    'variances', float vector (adata.var)\n",
            "    'variances_norm', float vector (adata.var)\n",
            "extracting highly variable genes\n"
          ]
        },
        {
          "output_type": "stream",
          "name": "stderr",
          "text": [
            "/usr/local/lib/python3.10/dist-packages/legacy_api_wrap/__init__.py:82: UserWarning: `flavor='seurat_v3'` expects raw count data, but non-integers were found.\n",
            "  return fn(*args_all, **kw)\n"
          ]
        },
        {
          "output_type": "stream",
          "name": "stdout",
          "text": [
            "--> added\n",
            "    'highly_variable', boolean vector (adata.var)\n",
            "    'highly_variable_rank', float vector (adata.var)\n",
            "    'means', float vector (adata.var)\n",
            "    'variances', float vector (adata.var)\n",
            "    'variances_norm', float vector (adata.var)\n",
            "extracting highly variable genes\n"
          ]
        },
        {
          "output_type": "stream",
          "name": "stderr",
          "text": [
            "/usr/local/lib/python3.10/dist-packages/legacy_api_wrap/__init__.py:82: UserWarning: `flavor='seurat_v3'` expects raw count data, but non-integers were found.\n",
            "  return fn(*args_all, **kw)\n"
          ]
        },
        {
          "output_type": "stream",
          "name": "stdout",
          "text": [
            "--> added\n",
            "    'highly_variable', boolean vector (adata.var)\n",
            "    'highly_variable_rank', float vector (adata.var)\n",
            "    'means', float vector (adata.var)\n",
            "    'variances', float vector (adata.var)\n",
            "    'variances_norm', float vector (adata.var)\n",
            "extracting highly variable genes\n"
          ]
        },
        {
          "output_type": "stream",
          "name": "stderr",
          "text": [
            "/usr/local/lib/python3.10/dist-packages/legacy_api_wrap/__init__.py:82: UserWarning: `flavor='seurat_v3'` expects raw count data, but non-integers were found.\n",
            "  return fn(*args_all, **kw)\n"
          ]
        },
        {
          "output_type": "stream",
          "name": "stdout",
          "text": [
            "--> added\n",
            "    'highly_variable', boolean vector (adata.var)\n",
            "    'highly_variable_rank', float vector (adata.var)\n",
            "    'means', float vector (adata.var)\n",
            "    'variances', float vector (adata.var)\n",
            "    'variances_norm', float vector (adata.var)\n",
            "computing PCA\n",
            "    with n_comps=50\n",
            "    finished (0:00:07)\n",
            "computing PCA\n",
            "    with n_comps=50\n",
            "    finished (0:00:07)\n",
            "computing PCA\n",
            "    with n_comps=50\n",
            "    finished (0:00:07)\n",
            "computing PCA\n",
            "    with n_comps=50\n",
            "    finished (0:00:07)\n",
            "computing neighbors\n",
            "    using 'X_pca' with n_pcs = 50\n"
          ]
        },
        {
          "output_type": "error",
          "ename": "AttributeError",
          "evalue": "'MessageFactory' object has no attribute 'GetPrototype'",
          "traceback": [
            "\u001b[0;31m---------------------------------------------------------------------------\u001b[0m",
            "\u001b[0;31mAttributeError\u001b[0m                            Traceback (most recent call last)",
            "\u001b[0;31mAttributeError\u001b[0m: 'MessageFactory' object has no attribute 'GetPrototype'"
          ]
        },
        {
          "output_type": "error",
          "ename": "AttributeError",
          "evalue": "'MessageFactory' object has no attribute 'GetPrototype'",
          "traceback": [
            "\u001b[0;31m---------------------------------------------------------------------------\u001b[0m",
            "\u001b[0;31mAttributeError\u001b[0m                            Traceback (most recent call last)",
            "\u001b[0;31mAttributeError\u001b[0m: 'MessageFactory' object has no attribute 'GetPrototype'"
          ]
        },
        {
          "output_type": "error",
          "ename": "AttributeError",
          "evalue": "'MessageFactory' object has no attribute 'GetPrototype'",
          "traceback": [
            "\u001b[0;31m---------------------------------------------------------------------------\u001b[0m",
            "\u001b[0;31mAttributeError\u001b[0m                            Traceback (most recent call last)",
            "\u001b[0;31mAttributeError\u001b[0m: 'MessageFactory' object has no attribute 'GetPrototype'"
          ]
        },
        {
          "output_type": "error",
          "ename": "AttributeError",
          "evalue": "'MessageFactory' object has no attribute 'GetPrototype'",
          "traceback": [
            "\u001b[0;31m---------------------------------------------------------------------------\u001b[0m",
            "\u001b[0;31mAttributeError\u001b[0m                            Traceback (most recent call last)",
            "\u001b[0;31mAttributeError\u001b[0m: 'MessageFactory' object has no attribute 'GetPrototype'"
          ]
        },
        {
          "output_type": "error",
          "ename": "AttributeError",
          "evalue": "'MessageFactory' object has no attribute 'GetPrototype'",
          "traceback": [
            "\u001b[0;31m---------------------------------------------------------------------------\u001b[0m",
            "\u001b[0;31mAttributeError\u001b[0m                            Traceback (most recent call last)",
            "\u001b[0;31mAttributeError\u001b[0m: 'MessageFactory' object has no attribute 'GetPrototype'"
          ]
        },
        {
          "output_type": "stream",
          "name": "stdout",
          "text": [
            "    finished: added to `.uns['neighbors']`\n",
            "    `.obsp['distances']`, distances for each pair of neighbors\n",
            "    `.obsp['connectivities']`, weighted adjacency matrix (0:01:08)\n",
            "computing neighbors\n",
            "    using 'X_pca' with n_pcs = 50\n",
            "    finished: added to `.uns['neighbors']`\n",
            "    `.obsp['distances']`, distances for each pair of neighbors\n",
            "    `.obsp['connectivities']`, weighted adjacency matrix (0:00:06)\n",
            "computing neighbors\n",
            "    using 'X_pca' with n_pcs = 50\n",
            "    finished: added to `.uns['neighbors']`\n",
            "    `.obsp['distances']`, distances for each pair of neighbors\n",
            "    `.obsp['connectivities']`, weighted adjacency matrix (0:00:06)\n",
            "computing neighbors\n",
            "    using 'X_pca' with n_pcs = 50\n",
            "    finished: added to `.uns['neighbors']`\n",
            "    `.obsp['distances']`, distances for each pair of neighbors\n",
            "    `.obsp['connectivities']`, weighted adjacency matrix (0:00:06)\n",
            "computing UMAP\n",
            "    finished: added\n",
            "    'X_umap', UMAP coordinates (adata.obsm)\n",
            "    'umap', UMAP parameters (adata.uns) (0:00:31)\n",
            "computing UMAP\n",
            "    finished: added\n",
            "    'X_umap', UMAP coordinates (adata.obsm)\n",
            "    'umap', UMAP parameters (adata.uns) (0:00:29)\n",
            "computing UMAP\n",
            "    finished: added\n",
            "    'X_umap', UMAP coordinates (adata.obsm)\n",
            "    'umap', UMAP parameters (adata.uns) (0:00:29)\n",
            "computing UMAP\n",
            "    finished: added\n",
            "    'X_umap', UMAP coordinates (adata.obsm)\n",
            "    'umap', UMAP parameters (adata.uns) (0:00:29)\n",
            "\n",
            "GPU (rsc) times:\n",
            "normalize_total=0.016s, log1p=0.026s, hvg=0.049s, pca=0.183s, neighbors=0.118s, umap=0.107s | TOTAL=0.499s\n",
            "GPU shapes: (40000, 50) (40000, 2)\n",
            "\n",
            "CPU (scanpy) times:\n",
            "normalize_total=0.337s, log1p=0.174s, hvg=2.033s, pca=7.307s, neighbors=6.432s, umap=29.808s | TOTAL=46.090s\n",
            "CPU shapes: (40000, 50) (40000, 2)\n",
            "\n",
            "Speedups (CPU/GPU):\n",
            "normalize_total: ×21.1\n",
            "       log1p: ×6.6\n",
            "         hvg: ×41.2\n",
            "         pca: ×39.9\n",
            "   neighbors: ×54.6\n",
            "        umap: ×279.0\n",
            "       TOTAL: ×92.3\n"
          ]
        }
      ]
    },
    {
      "cell_type": "markdown",
      "source": [
        "## 8. Emerging Tools\n",
        "\n",
        "Single-cell analysis has historically revolved around Scanpy (Python/CPU) and Seurat (R/CPU). Over the last 2–3 years, the performance landscape has expanded dramatically. Here’s a guided sweep of the tools you should be aware of, even if you don’t use them immediately.\n",
        "\n",
        "### 8.1 GPU-native runtimes\n",
        "\n",
        "* RAPIDS Single-Cell (rapids_singlecell)\n",
        "\n",
        "  * Already demoed. Scanpy-like API, accelerated PCA/UMAP/KNN.\n",
        "\n",
        "  * Good entry point if you’re comfortable in Python and want fast wins on 100k–1M cell data.\n",
        "\n",
        "* PyTorch Sparse / JAX Sparse\n",
        "\n",
        "  * Experimental support for sparse tensors in deep-learning frameworks.\n",
        "\n",
        "  * Useful if you’re moving from QC into deep generative models (scVI, VAEs, diffusion models).\n",
        "\n",
        "  * These frameworks can directly interop with GPUs, TPUs, or clusters.\n",
        "\n",
        "* scvi-tools / PyTorch Geometric\n",
        "\n",
        "  * scvi-tools brings state-of-the-art generative models to single-cell (e.g. batch correction, multimodal integration).\n",
        "\n",
        "  * PyTorch Geometric supports graph neural networks — potentially useful for cell-cell interaction models.\n",
        "\n",
        "### 8.2 Scalable array & storage backends\n",
        "\n",
        "* Zarr / TileDB\n",
        "\n",
        "  * Both store n-dimensional arrays on disk in chunked formats.\n",
        "\n",
        "  * Let you stream slices (cells × genes) into memory without ever loading the full dense array.\n",
        "\n",
        "  * Important if you’re analyzing >1M cells where even CSR won’t fit in RAM.\n",
        "\n",
        "  * Zarr integrates with Scanpy; TileDB adds cloud-native storage (S3/GCS/Azure).\n",
        "\n",
        "* Apache Arrow / Polars\n",
        "\n",
        "  * Arrow defines a columnar in-memory format with zero-copy sharing across languages.\n",
        "\n",
        "  * Polars is a DataFrame library built on Arrow: multithreaded, faster than pandas.\n",
        "\n",
        "  * Advanced: replace heavy .obs / .var pandas operations with Polars for speed.\n",
        "\n",
        "### 8.3 CPU accelerators\n",
        "\n",
        "* NumExpr / Bottleneck\n",
        "\n",
        "  * Vectorized kernels for elementwise arithmetic and reductions in dense arrays.\n",
        "\n",
        "  * If you’re stuck with a dense step (e.g. PCA input after HVG selection), these can cut runtime 2–3× with minimal code change.\n",
        "\n",
        "* Numba\n",
        "\n",
        "  * Already shown for custom kernels. Still one of the cleanest ways to JIT-compile a Python loop down to native code.\n",
        "\n",
        "  * Best for bespoke elementwise transforms when you can’t express the logic as pure vectorization.\n",
        "\n",
        "### 8.4 Cluster/distributed execution\n",
        "* For datasets approaching multi-million cells, sometimes even a single GPU workstation isn’t enough. That’s where distributed runtimes shine:\n",
        "\n",
        "* Dask\n",
        "\n",
        "  * Python’s “batteries-included” distributed array/dataframe engine.\n",
        "\n",
        "  * Integrates with RAPIDS: you can distribute CuPy/GPUs across nodes.\n",
        "\n",
        "  * Lets you keep the Scanpy-like workflow, just at cluster scale.\n",
        "\n",
        "* Apache Spark\n",
        "\n",
        "  * More heavyweight, but battle-tested in data engineering.\n",
        "\n",
        "  * Spark DataFrames (with Arrow interop) can store and query single-cell metadata across clusters.\n",
        "\n",
        "  * Most useful when analysis is tied into big data pipelines (ETL, multi-omics integration with other large datasets).\n",
        "\n",
        "* Ray\n",
        "\n",
        "  * General-purpose distributed execution framework.\n",
        "\n",
        "  * Used by some ML workflows for scalable hyperparameter tuning and batch inference on cell embeddings."
      ],
      "metadata": {
        "id": "yttzGEqiAZkV"
      },
      "id": "yttzGEqiAZkV"
    },
    {
      "cell_type": "code",
      "source": [
        "%env LC_ALL=C.UTF-8\n",
        "%env LANG=C.UTF-8"
      ],
      "metadata": {
        "colab": {
          "base_uri": "https://localhost:8080/"
        },
        "id": "K9HApnD3B-8s",
        "outputId": "494a63c7-f301-45e9-a031-bfb8a8817ef5"
      },
      "id": "K9HApnD3B-8s",
      "execution_count": null,
      "outputs": [
        {
          "output_type": "stream",
          "name": "stdout",
          "text": [
            "env: LC_ALL=C.UTF-8\n",
            "env: LANG=C.UTF-8\n"
          ]
        }
      ]
    },
    {
      "cell_type": "code",
      "source": [
        "!pip install dask[complete] dask-image tqdm ray[default] --quiet"
      ],
      "metadata": {
        "id": "QdZygtxb8Uhq"
      },
      "id": "QdZygtxb8Uhq",
      "execution_count": null,
      "outputs": []
    },
    {
      "cell_type": "markdown",
      "source": [
        "### Dask lazy parallel compute over chunks (single machine)\n",
        "What this shows\n",
        "\n",
        "We compute per-gene sums/nnz using Dask delayed on CSR column blocks in parallel, then materialize the result with a progress bar. This is the “hello world” for scaling chunked operations without changing your core logic."
      ],
      "metadata": {
        "id": "sLtXBy6zC_3q"
      },
      "id": "sLtXBy6zC_3q"
    },
    {
      "cell_type": "code",
      "source": [
        "import numpy as np\n",
        "from dask import delayed, compute\n",
        "from dask.diagnostics import ProgressBar\n",
        "\n",
        "X = adata.X.tocsr().astype(np.float32, copy=False)  # CPU CSR\n",
        "\n",
        "def col_block_stats(X, start, end):\n",
        "    # compute per-gene (column) sum and nnz for a slice of columns\n",
        "    Xc = X[:, start:end]           # still sparse\n",
        "    s = np.asarray(Xc.sum(axis=0)).ravel().astype(np.float32, copy=False)\n",
        "    c = Xc.getnnz(axis=0).astype(np.int32, copy=False)\n",
        "    return s, c\n",
        "\n",
        "# Build a lazy graph of tasks over column blocks\n",
        "block = 2000\n",
        "tasks = []\n",
        "for j0 in range(0, X.shape[1], block):\n",
        "    j1 = min(j0+block, X.shape[1])\n",
        "    tasks.append(delayed(col_block_stats)(X, j0, j1))\n",
        "\n",
        "# Trigger parallel execution\n",
        "with ProgressBar():\n",
        "    parts = compute(*tasks)\n",
        "\n",
        "# Stitch results\n",
        "sums = np.concatenate([p[0] for p in parts])\n",
        "nnzs = np.concatenate([p[1] for p in parts])\n",
        "print(\"Dask finished:\", sums.shape, nnzs.shape, \"sum(sums)=\", float(sums.sum()))"
      ],
      "metadata": {
        "colab": {
          "base_uri": "https://localhost:8080/"
        },
        "id": "IBF4wQkjCGFr",
        "outputId": "1f5d514f-2089-4259-af5e-64fd41970bcb"
      },
      "id": "IBF4wQkjCGFr",
      "execution_count": null,
      "outputs": [
        {
          "output_type": "stream",
          "name": "stdout",
          "text": [
            "[########################################] | 100% Completed | 6.11 s\n",
            "Dask finished: (18129,) (18129,) sum(sums)= 2566197760.0\n"
          ]
        }
      ]
    },
    {
      "cell_type": "markdown",
      "source": [
        "Why this is useful: it’s the same logic you’d write with a for-loop, but Dask builds a DAG and runs blocks in parallel using your CPU cores."
      ],
      "metadata": {
        "id": "7UH5DBuHDFP8"
      },
      "id": "7UH5DBuHDFP8"
    },
    {
      "cell_type": "markdown",
      "source": [
        "### Dask Array — out-of-core dense blocks (optional if you have Zarr)\n",
        "What this shows\n",
        "\n",
        "If you have a dense array (e.g., after HVG selection) or a Zarr store, Dask Array can make blocked operations trivial."
      ],
      "metadata": {
        "id": "thkEbs-hDGCc"
      },
      "id": "thkEbs-hDGCc"
    },
    {
      "cell_type": "code",
      "source": [
        "import dask.array as da\n",
        "\n",
        "# Example: turn a dense (n_obs x 2000) view into a dask array with 10k-row chunks\n",
        "X_hvg = adata[:, adata.var_names[:2000]].X.toarray().astype(np.float32)  # demo\n",
        "dX = da.from_array(X_hvg, chunks=(10_000, -1))   # chunk rows, keep columns whole\n",
        "\n",
        "# Compute per-row sums and per-column means lazily, then .compute()\n",
        "row_sums = dX.sum(axis=1).compute()\n",
        "col_means = dX.mean(axis=0).compute()\n",
        "print(row_sums.shape, col_means.shape)"
      ],
      "metadata": {
        "colab": {
          "base_uri": "https://localhost:8080/"
        },
        "id": "WTTTFwMkCo1K",
        "outputId": "b7bb1a44-1d40-4d93-89b2-481a700614f1"
      },
      "id": "WTTTFwMkCo1K",
      "execution_count": null,
      "outputs": [
        {
          "output_type": "stream",
          "name": "stdout",
          "text": [
            "(289331,) (2000,)\n"
          ]
        }
      ]
    },
    {
      "cell_type": "markdown",
      "source": [
        "When to use: dense or Zarr-backed workflows where you want simple NumPy-like code that scales to memory."
      ],
      "metadata": {
        "id": "Gdq_wQw1DKmp"
      },
      "id": "Gdq_wQw1DKmp"
    },
    {
      "cell_type": "markdown",
      "source": [
        "### Ray —  parallel “map over batches”\n",
        "What this shows\n",
        "\n",
        "Parallelize a function that processes a batch of cells (e.g., compute a few QC metrics) across CPU cores with Ray tasks. Good for wrapping bits of Scanpy/rsc you can’t easily vectorize."
      ],
      "metadata": {
        "id": "KCZ0Z-S4DMwK"
      },
      "id": "KCZ0Z-S4DMwK"
    },
    {
      "cell_type": "code",
      "source": [
        "import numpy as np, ray\n",
        "ray.shutdown(); ray.init(ignore_reinit_error=True, include_dashboard=False)\n",
        "\n",
        "def qc_batch(X_csr, rows):\n",
        "    sub = X_csr[rows, :]\n",
        "    counts = np.asarray(sub.sum(axis=1)).ravel().astype(np.float32)\n",
        "    genes  = sub.getnnz(axis=1).astype(np.int32)\n",
        "    return counts, genes\n",
        "\n",
        "@ray.remote\n",
        "def qc_batch_remote(X_csr, rows):\n",
        "    return qc_batch(X_csr, rows)\n",
        "\n",
        "X = adata.X.tocsr().astype(np.float32, copy=False)\n",
        "batch = 10_000\n",
        "row_idx = np.arange(X.shape[0])\n",
        "batches = [row_idx[i:i+batch] for i in range(0, len(row_idx), batch)]\n",
        "\n",
        "futs = [qc_batch_remote.remote(X, b) for b in batches]\n",
        "parts = ray.get(futs)\n",
        "\n",
        "counts = np.concatenate([p[0] for p in parts])\n",
        "genes  = np.concatenate([p[1] for p in parts])\n",
        "print(\"Ray finished:\", counts.shape, genes.shape, \"sum(counts)=\", float(counts.sum()))"
      ],
      "metadata": {
        "colab": {
          "base_uri": "https://localhost:8080/"
        },
        "id": "Bla_eA0KC57p",
        "outputId": "395a0e87-2f07-45c4-9ada-7d41f3ee2f4f"
      },
      "id": "Bla_eA0KC57p",
      "execution_count": null,
      "outputs": [
        {
          "output_type": "stream",
          "name": "stderr",
          "text": [
            "2025-08-23 17:48:24,451\tINFO worker.py:1781 -- Started a local Ray instance.\n"
          ]
        },
        {
          "output_type": "stream",
          "name": "stdout",
          "text": [
            "Ray finished: (289331,) (289331,) sum(counts)= 2566203648.0\n"
          ]
        }
      ]
    },
    {
      "cell_type": "markdown",
      "source": [
        "Why Ray: dead-simple task API; handy when you want to parallelize Python functions that don’t fit a simple array algebra mold."
      ],
      "metadata": {
        "id": "jax6fXJbB3tF"
      },
      "id": "jax6fXJbB3tF"
    },
    {
      "cell_type": "markdown",
      "source": [
        "### Spark (local mode) — DataFrame/SQL over big metadata (advanced)\n",
        "What this shows\n",
        "\n",
        "Use Spark locally to handle large obs metadata joins/groupbys. This is not for sparse matrix arithmetic; it’s for data engineering tasks around your matrix."
      ],
      "metadata": {
        "id": "eMSqA7ksDUI7"
      },
      "id": "eMSqA7ksDUI7"
    },
    {
      "cell_type": "code",
      "source": [
        "# Spark is heavy and may clash with your pyarrow/RAPIDS\n",
        "# If you try:  pip install -q pyspark==3.5.1 pyarrow==14.0.2  (pin Arrow!)\n",
        "\n",
        "import pandas as pd\n",
        "from pyspark.sql import SparkSession, functions as F\n",
        "\n",
        "spark = SparkSession.builder.master(\"local[*]\").appName(\"singlecell-demo\").getOrCreate()\n",
        "\n",
        "# Convert .obs to Spark DataFrame (small demo sample)\n",
        "obs_df = adata.obs[['sample', 'n_counts', 'percent_mito']].reset_index(names='cell')\n",
        "sdf = spark.createDataFrame(obs_df)\n",
        "\n",
        "# Group-by example: per-sample summary\n",
        "agg = (sdf.groupBy(\"sample\")\n",
        "         .agg(F.count(\"*\").alias(\"cells\"),\n",
        "              F.avg(\"n_counts\").alias(\"mean_counts\"),\n",
        "              F.avg(\"percent_mito\").alias(\"mean_mito\"))\n",
        "      )\n",
        "agg.show(10, truncate=False)\n",
        "spark.stop()\n"
      ],
      "metadata": {
        "id": "sECjCIt3DQoc"
      },
      "id": "sECjCIt3DQoc",
      "execution_count": null,
      "outputs": []
    },
    {
      "cell_type": "markdown",
      "source": [
        "When Spark makes sense: your single-cell pipeline sits inside a larger ETL/warehouse stack; you need SQL joins, window functions, or to integrate with Parquet/Lakehouse at scale."
      ],
      "metadata": {
        "id": "wEE-e5ITDZji"
      },
      "id": "wEE-e5ITDZji"
    },
    {
      "cell_type": "markdown",
      "source": [
        "## NVIDIA's multi-GPU 1M single cell notebook\n",
        "\n",
        "https://github.com/NVIDIA-Genomics-Research/rapids-single-cell-examples/blob/master/notebooks/1M_brain_gpu_analysis_multigpu.ipynb"
      ],
      "metadata": {
        "id": "PAU2hDMuNwFm"
      },
      "id": "PAU2hDMuNwFm"
    },
    {
      "cell_type": "code",
      "source": [],
      "metadata": {
        "id": "DliVJQAyDcmu"
      },
      "id": "DliVJQAyDcmu",
      "execution_count": null,
      "outputs": []
    }
  ],
  "metadata": {
    "kernelspec": {
      "display_name": "Python 3",
      "language": "python",
      "name": "python3"
    },
    "language_info": {
      "codemirror_mode": {
        "name": "ipython",
        "version": 3
      },
      "file_extension": ".py",
      "mimetype": "text/x-python",
      "name": "python",
      "nbconvert_exporter": "python",
      "pygments_lexer": "ipython3",
      "version": "3.10.10"
    },
    "colab": {
      "provenance": [],
      "name": "dataframe_acceleration",
      "gpuType": "L4"
    },
    "accelerator": "GPU"
  },
  "nbformat": 4,
  "nbformat_minor": 5
}